{
 "cells": [
  {
   "cell_type": "markdown",
   "id": "65a8a492-0061-48b6-babe-1622b1dddf11",
   "metadata": {},
   "source": [
    "# Marginal loglikelihood"
   ]
  },
  {
   "cell_type": "code",
   "execution_count": 1,
   "id": "a5ca88f3-b955-48bf-aca5-5ac0bcc9180e",
   "metadata": {},
   "outputs": [],
   "source": [
    "from pathlib import Path\n",
    "\n",
    "import pytorch_lightning as pl\n",
    "import torch\n",
    "import torch.distributions as tdist\n",
    "import numpy as np\n",
    "\n",
    "import pmldiku\n",
    "from pmldiku import data, vae, model_utils\n",
    "\n",
    "%load_ext autoreload\n",
    "%autoreload 1\n",
    "%aimport pmldiku.data, pmldiku.vae, pmldiku.model_utils"
   ]
  },
  {
   "cell_type": "code",
   "execution_count": 2,
   "id": "00afaf25-831f-4dcd-9342-6799b0b19456",
   "metadata": {},
   "outputs": [
    {
     "name": "stdout",
     "output_type": "stream",
     "text": [
      "Model mnist-CVAE-MSE-epoch=24-val_loss=4918.31.ckpt; size 1.18 mb.\n",
      "Model mnist-VAE-CB-epoch=40-val_loss=-205819.23.ckpt; size 8.53 mb.\n",
      "Model mnist-CVAE-BCE-epoch=16-val_loss=19557.79.ckpt; size 1.18 mb.\n",
      "Model mnist-VAE-BCE-epoch=34-val_loss=18057.60.ckpt; size 8.53 mb.\n",
      "Model mnist-VAE-MSE-epoch=21-val_loss=18096.77.ckpt; size 8.53 mb.\n",
      "Model mnist-VAE-MSE-epoch=15-val_loss=4599.13.ckpt; size 8.53 mb.\n"
     ]
    },
    {
     "data": {
      "text/plain": [
       "TrainedModels(models={'mnist-CVAE-MSE-epoch=24-val_loss=4918.31.ckpt': PosixPath('/scratch/fjr906/projects/pml/pmldiku-exam-paper/code/models/mnist-CVAE-MSE-epoch=24-val_loss=4918.31.ckpt'), 'mnist-VAE-CB-epoch=40-val_loss=-205819.23.ckpt': PosixPath('/scratch/fjr906/projects/pml/pmldiku-exam-paper/code/models/mnist-VAE-CB-epoch=40-val_loss=-205819.23.ckpt'), 'mnist-CVAE-BCE-epoch=16-val_loss=19557.79.ckpt': PosixPath('/scratch/fjr906/projects/pml/pmldiku-exam-paper/code/models/mnist-CVAE-BCE-epoch=16-val_loss=19557.79.ckpt'), 'mnist-VAE-BCE-epoch=34-val_loss=18057.60.ckpt': PosixPath('/scratch/fjr906/projects/pml/pmldiku-exam-paper/code/models/mnist-VAE-BCE-epoch=34-val_loss=18057.60.ckpt'), 'mnist-VAE-MSE-epoch=21-val_loss=18096.77.ckpt': PosixPath('/scratch/fjr906/projects/pml/pmldiku-exam-paper/code/models/mnist-VAE-MSE-epoch=21-val_loss=18096.77.ckpt'), 'mnist-VAE-MSE-epoch=15-val_loss=4599.13.ckpt': PosixPath('/scratch/fjr906/projects/pml/pmldiku-exam-paper/code/models/mnist-VAE-MSE-epoch=15-val_loss=4599.13.ckpt')})"
      ]
     },
     "execution_count": 2,
     "metadata": {},
     "output_type": "execute_result"
    }
   ],
   "source": [
    "trained_models = model_utils.show_trained_models()\n",
    "trained_models"
   ]
  },
  {
   "cell_type": "code",
   "execution_count": 5,
   "id": "6aae9a6c-c6f7-4da3-9092-9eaefda0199c",
   "metadata": {},
   "outputs": [],
   "source": [
    "torch.manual_seed(1)\n",
    "\n",
    "CUDA = True\n",
    "BATCH_SIZE = 128\n",
    "LOGPX_LOSS = \"bce\"\n",
    "DEVICE_NAME = \"cuda\" if CUDA else \"cpu\"\n",
    "\n",
    "DEVICE = torch.device(DEVICE_NAME)\n",
    "kwargs = {'num_workers': 4, 'pin_memory': DEVICE} \n",
    "\n",
    "train_loader = data.load_mnist(train=True).setup_data_loader(batch_size=BATCH_SIZE, **kwargs)\n",
    "val_loader = data.load_mnist(train=False).setup_data_loader(batch_size=BATCH_SIZE, **kwargs)  "
   ]
  },
  {
   "cell_type": "code",
   "execution_count": 6,
   "id": "27a4a0e5-ebea-4ddb-ac46-3a6f1a508f66",
   "metadata": {},
   "outputs": [],
   "source": [
    "X, y = next(iter(val_loader))"
   ]
  },
  {
   "cell_type": "markdown",
   "id": "b133d158-d3c1-4c33-a4d2-00300122054c",
   "metadata": {},
   "source": [
    "# Compute marginal likelihood"
   ]
  },
  {
   "cell_type": "markdown",
   "id": "d43b55cf-f6ca-4a19-ae70-e51117e7db52",
   "metadata": {},
   "source": [
    "## VAE"
   ]
  },
  {
   "cell_type": "code",
   "execution_count": 14,
   "id": "3fee7bc9-b576-4046-8089-60286cdfab89",
   "metadata": {},
   "outputs": [
    {
     "data": {
      "text/plain": [
       "LitVAE(\n",
       "  (vae): BaseVAE(\n",
       "    (fc1): Linear(in_features=784, out_features=400, bias=True)\n",
       "    (fc1a): Linear(in_features=400, out_features=100, bias=True)\n",
       "    (fc21): Linear(in_features=100, out_features=2, bias=True)\n",
       "    (fc22): Linear(in_features=100, out_features=2, bias=True)\n",
       "    (fc3): Linear(in_features=2, out_features=100, bias=True)\n",
       "    (fc3a): Linear(in_features=100, out_features=400, bias=True)\n",
       "    (fc4): Linear(in_features=400, out_features=784, bias=True)\n",
       "  )\n",
       ")"
      ]
     },
     "execution_count": 14,
     "metadata": {},
     "output_type": "execute_result"
    }
   ],
   "source": [
    "base_vae = vae.BaseVAE()\n",
    "model = vae.LitVAE.load_from_checkpoint(trained_models.models[\"mnist-VAE-BCE-epoch=34-val_loss=18057.60.ckpt\"], vae=base_vae, logpx_loss=LOGPX_LOSS)\n",
    "model"
   ]
  },
  {
   "cell_type": "code",
   "execution_count": 15,
   "id": "8a476de0-78a0-444e-bfaa-8af758f2a828",
   "metadata": {},
   "outputs": [
    {
     "name": "stderr",
     "output_type": "stream",
     "text": [
      "100%|████████████████████████████████████████████████████████████████████████████████████████████████████████████████████████████████████████████████████████████████████████████████| 79/79 [01:11<00:00,  1.10it/s]\n"
     ]
    }
   ],
   "source": [
    "mloglik_vae = vae.MarginalLogLikVAE(val_loader, model, latent_dim=2, L=5)\n",
    "logpx_vae = mloglik_vae.estimate()"
   ]
  },
  {
   "cell_type": "code",
   "execution_count": 19,
   "id": "0336edb6-f3f8-4b06-b6a7-312c2bd53f58",
   "metadata": {},
   "outputs": [
    {
     "data": {
      "text/plain": [
       "tensor(-39.0804, grad_fn=<AddBackward0>)"
      ]
     },
     "execution_count": 19,
     "metadata": {},
     "output_type": "execute_result"
    }
   ],
   "source": [
    "logpx_vae"
   ]
  },
  {
   "cell_type": "markdown",
   "id": "d116e6f6-e19b-4fc2-ac9b-dc2a9c2d40b2",
   "metadata": {},
   "source": [
    "## CVAE"
   ]
  },
  {
   "cell_type": "code",
   "execution_count": 16,
   "id": "aa93ee57-72be-475c-a780-4bde754bcdd4",
   "metadata": {},
   "outputs": [
    {
     "data": {
      "text/plain": [
       "LitVAE(\n",
       "  (vae): CVAE(\n",
       "    (encoder): Sequential(\n",
       "      (0): Conv2d(1, 32, kernel_size=(3, 3), stride=(2, 2), padding=(1, 1))\n",
       "      (1): ReLU()\n",
       "      (2): Conv2d(32, 64, kernel_size=(3, 3), stride=(2, 2), padding=(1, 1))\n",
       "      (3): ReLU()\n",
       "      (4): Flatten(start_dim=1, end_dim=-1)\n",
       "    )\n",
       "    (fc_mean): Linear(in_features=3136, out_features=2, bias=True)\n",
       "    (fc_logvar): Linear(in_features=3136, out_features=2, bias=True)\n",
       "    (decoder): Sequential(\n",
       "      (0): Linear(in_features=2, out_features=3136, bias=True)\n",
       "      (1): Unflatten(dim=1, unflattened_size=[64, 7, 7])\n",
       "      (2): ConvTranspose2d(64, 64, kernel_size=(3, 3), stride=(2, 2), padding=(1, 1))\n",
       "      (3): ReLU()\n",
       "      (4): ConvTranspose2d(64, 32, kernel_size=(3, 3), stride=(2, 2), padding=(1, 1))\n",
       "      (5): ReLU()\n",
       "      (6): ConvTranspose2d(32, 1, kernel_size=(4, 4), stride=(1, 1))\n",
       "      (7): Sigmoid()\n",
       "    )\n",
       "  )\n",
       ")"
      ]
     },
     "execution_count": 16,
     "metadata": {},
     "output_type": "execute_result"
    }
   ],
   "source": [
    "base_vae = vae.CVAE(hidden_dim=2)\n",
    "model = vae.LitVAE.load_from_checkpoint(trained_models.models[\"mnist-CVAE-BCE-epoch=16-val_loss=19557.79.ckpt\"], vae=base_vae, logpx_loss=LOGPX_LOSS)\n",
    "model"
   ]
  },
  {
   "cell_type": "code",
   "execution_count": 20,
   "id": "4df8c4a1-cb86-4e6e-8281-794bd0922d3e",
   "metadata": {},
   "outputs": [
    {
     "name": "stderr",
     "output_type": "stream",
     "text": [
      "100%|████████████████████████████████████████████████████████████████████████████████████████████████████████████████████████████████████████████████████████████████████████████████| 79/79 [01:54<00:00,  1.45s/it]\n"
     ]
    }
   ],
   "source": [
    "mloglik_vae = vae.MarginalLogLikVAE(val_loader, model, latent_dim=2, L=5)\n",
    "logpx_cvae = mloglik_vae.estimate()"
   ]
  },
  {
   "cell_type": "code",
   "execution_count": 21,
   "id": "a87e85a5-4683-442e-8fd8-6c2d28e61ee2",
   "metadata": {},
   "outputs": [
    {
     "data": {
      "text/plain": [
       "tensor(-44.1215, grad_fn=<AddBackward0>)"
      ]
     },
     "execution_count": 21,
     "metadata": {},
     "output_type": "execute_result"
    }
   ],
   "source": [
    "logpx_cvae"
   ]
  },
  {
   "cell_type": "code",
   "execution_count": null,
   "id": "928f0c2d-b8de-466b-8d30-7f5298199374",
   "metadata": {},
   "outputs": [],
   "source": []
  }
 ],
 "metadata": {
  "kernelspec": {
   "display_name": "Python 3 (ipykernel)",
   "language": "python",
   "name": "python3"
  },
  "language_info": {
   "codemirror_mode": {
    "name": "ipython",
    "version": 3
   },
   "file_extension": ".py",
   "mimetype": "text/x-python",
   "name": "python",
   "nbconvert_exporter": "python",
   "pygments_lexer": "ipython3",
   "version": "3.10.8"
  }
 },
 "nbformat": 4,
 "nbformat_minor": 5
}
