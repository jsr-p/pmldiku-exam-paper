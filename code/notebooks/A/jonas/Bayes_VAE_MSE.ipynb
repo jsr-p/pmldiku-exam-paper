{
 "cells": [
  {
   "cell_type": "markdown",
   "id": "6a8a997a-b9e3-49e0-a89b-590436744728",
   "metadata": {},
   "source": [
    "# Bayesian VAE "
   ]
  },
  {
   "cell_type": "code",
   "execution_count": 1,
   "id": "dcf9690c",
   "metadata": {},
   "outputs": [],
   "source": [
    "from pathlib import Path\n",
    "\n",
    "import torch\n",
    "import torch.utils.data\n",
    "from torch import nn, optim\n",
    "from torch.nn import functional as F\n",
    "from torchvision import datasets, transforms\n",
    "from torchvision.utils import save_image\n",
    "import pytorch_lightning as pl\n",
    "from pytorch_lightning.callbacks import ModelCheckpoint\n",
    "from pytorch_lightning.callbacks.early_stopping import EarlyStopping\n",
    "\n",
    "import matplotlib.pyplot as plt\n",
    "import numpy as np\n",
    "\n",
    "import pmldiku\n",
    "from pmldiku import data, vae, model_utils\n",
    "\n",
    "%load_ext autoreload\n",
    "%autoreload 1\n",
    "%aimport pmldiku.data, pmldiku.vae, pmldiku.model_utils"
   ]
  },
  {
   "cell_type": "code",
   "execution_count": 2,
   "id": "275e0667-4280-4d18-962b-b36cd4e04500",
   "metadata": {},
   "outputs": [],
   "source": [
    "torch.manual_seed(1)\n",
    "\n",
    "CUDA = True\n",
    "BATCH_SIZE = 128\n",
    "LOGPX_LOSS = \"mse\"\n",
    "DEVICE_NAME = \"cuda\" if CUDA else \"cpu\"\n",
    "\n",
    "DEVICE = torch.device(DEVICE_NAME)\n",
    "kwargs = {'num_workers': 4, 'pin_memory': DEVICE} "
   ]
  },
  {
   "cell_type": "code",
   "execution_count": 3,
   "id": "faa71cec-4d28-4a27-b0de-2bf539f672c2",
   "metadata": {},
   "outputs": [],
   "source": [
    "# Val equals test here :)\n",
    "train_loader = data.load_mnist(train=True).setup_data_loader(batch_size=BATCH_SIZE, **kwargs)\n",
    "val_loader = data.load_mnist(train=False).setup_data_loader(batch_size=BATCH_SIZE, **kwargs)  "
   ]
  },
  {
   "cell_type": "code",
   "execution_count": 4,
   "id": "adfe7411-aad7-4b1c-8511-c758f67aeaff",
   "metadata": {},
   "outputs": [
    {
     "data": {
      "image/png": "[encoded data removed]",
      "text/plain": [
       "<Figure size 640x480 with 1 Axes>"
      ]
     },
     "metadata": {},
     "output_type": "display_data"
    }
   ],
   "source": [
    "X, y = next(iter(train_loader))\n",
    "img = X[0].squeeze().numpy()\n",
    "model_utils.plot_img(img)"
   ]
  },
  {
   "cell_type": "code",
   "execution_count": 5,
   "id": "657125c1-d826-40e3-80da-2257e5ce5adc",
   "metadata": {},
   "outputs": [
    {
     "data": {
      "text/plain": [
       "(tensor([[nan, nan, nan,  ..., nan, nan, nan],\n",
       "         [nan, nan, nan,  ..., nan, nan, nan],\n",
       "         [nan, nan, nan,  ..., nan, nan, nan],\n",
       "         ...,\n",
       "         [nan, nan, nan,  ..., nan, nan, nan],\n",
       "         [nan, nan, nan,  ..., nan, nan, nan],\n",
       "         [nan, nan, nan,  ..., nan, nan, nan]], grad_fn=<SigmoidBackward0>),\n",
       " tensor([[-2.4913e-02,  2.4521e-02, -2.2980e-02, -1.8327e-02,  2.6264e-02],\n",
       "         [-1.8427e-02,  5.0007e-02,  6.1620e-03, -1.2502e-02,  6.2049e-02],\n",
       "         [-4.2879e-02,  5.5429e-02, -1.4402e-04, -5.0580e-02,  3.2807e-02],\n",
       "         [-1.1437e-02,  3.2211e-02, -8.4612e-03, -2.1247e-02,  4.2941e-02],\n",
       "         [-2.2322e-02,  3.1962e-02, -9.7556e-04, -8.6904e-03,  3.0355e-02],\n",
       "         [-1.5270e-02,  5.1503e-02, -2.3576e-02, -1.8622e-02,  6.4494e-02],\n",
       "         [-4.5391e-02,  3.7894e-02, -1.0632e-02,  7.8243e-03,  5.8622e-02],\n",
       "         [-1.5656e-02,  6.8181e-03,  1.3988e-02, -2.1729e-02,  1.3886e-02],\n",
       "         [-3.4052e-02,  4.7316e-02,  6.9208e-04, -4.0347e-02,  2.8730e-02],\n",
       "         [-2.7427e-02,  4.8307e-02, -1.4704e-02, -2.3219e-02,  7.4250e-02],\n",
       "         [-2.9582e-02,  2.3986e-02,  3.2384e-05, -2.9740e-02,  4.7782e-02],\n",
       "         [ 2.5510e-03,  4.4289e-02, -1.8727e-02,  6.6647e-03,  8.8897e-02],\n",
       "         [-5.0941e-02,  2.9214e-02, -4.9714e-02, -3.0096e-02,  4.8563e-02],\n",
       "         [-2.8449e-02, -6.8311e-03, -3.5637e-03, -1.6188e-02,  3.2034e-02],\n",
       "         [-2.9429e-02,  4.2369e-02, -3.0674e-02, -8.8276e-03,  4.3413e-02],\n",
       "         [-5.7491e-03,  2.6581e-02, -7.6366e-03, -7.1113e-03,  4.5533e-02],\n",
       "         [-1.7538e-02,  8.4093e-03, -1.4336e-02, -2.9862e-02,  2.5819e-02],\n",
       "         [-3.5874e-02,  3.3591e-03, -1.4824e-02, -2.6054e-02,  4.1607e-02],\n",
       "         [-2.3506e-02,  1.2459e-02, -8.4966e-03,  6.2438e-03,  5.5754e-02],\n",
       "         [-2.0781e-02,  6.1716e-02, -4.9254e-03, -1.3002e-02,  2.3878e-02],\n",
       "         [-2.1095e-02,  5.3618e-02,  3.2265e-02, -1.6358e-02,  5.0590e-02],\n",
       "         [-9.7597e-03, -2.7070e-03, -1.3101e-02,  2.6574e-03,  6.1652e-02],\n",
       "         [-2.0536e-02,  6.4786e-02, -1.7444e-02, -2.5863e-02,  3.6115e-02],\n",
       "         [-1.4821e-02,  3.0789e-02, -2.0105e-02, -2.0119e-02,  5.7296e-02],\n",
       "         [-2.4766e-02,  2.4332e-02, -2.2625e-02, -3.1410e-02,  5.6884e-02],\n",
       "         [-4.3470e-02,  5.6700e-02,  6.3449e-03, -4.5245e-02,  1.7907e-02],\n",
       "         [-5.3520e-03, -7.2050e-03, -7.8435e-03, -6.6826e-03,  3.3233e-02],\n",
       "         [-1.0631e-02,  1.5315e-02, -2.7792e-02,  1.2862e-02,  4.5853e-02],\n",
       "         [ 1.0111e-03,  2.8841e-02,  4.2506e-03, -8.0563e-03,  4.1298e-02],\n",
       "         [-1.9386e-02,  1.3813e-03,  6.0933e-03, -4.7902e-02, -8.1447e-04],\n",
       "         [-2.4517e-03,  1.8407e-02,  1.8375e-02, -7.1100e-03,  6.2236e-02],\n",
       "         [ 1.1835e-02,  4.5686e-02, -2.4740e-02, -4.7544e-03,  4.3605e-02],\n",
       "         [-2.8113e-02,  4.2645e-02, -1.5303e-02,  2.0216e-02,  7.7425e-02],\n",
       "         [-1.5688e-02, -1.0137e-02,  1.5983e-03,  2.2491e-02,  6.5712e-02],\n",
       "         [-3.4409e-02,  6.4824e-02, -3.6171e-02,  2.5351e-03,  5.4032e-02],\n",
       "         [ 6.0501e-03, -2.8981e-03,  3.5886e-02, -3.7553e-02,  5.7245e-04],\n",
       "         [-4.0766e-02,  4.7922e-02, -2.3861e-02, -1.7174e-02,  3.5315e-03],\n",
       "         [-3.6478e-02,  4.7239e-02, -3.2012e-02,  4.7283e-03,  5.0876e-02],\n",
       "         [-2.0320e-02,  1.8501e-02, -2.6098e-02, -5.4185e-03,  7.3701e-02],\n",
       "         [-2.8125e-02,  1.2675e-02, -3.3574e-03, -1.9701e-02,  2.2682e-02],\n",
       "         [-2.0374e-03, -2.4472e-03, -4.0498e-02,  1.0617e-02,  2.3563e-02],\n",
       "         [-2.9065e-02,  2.8495e-02, -3.3001e-02, -1.6888e-02,  7.1892e-02],\n",
       "         [-1.2724e-02,  6.0410e-02, -3.8412e-02,  1.6014e-02,  8.4138e-02],\n",
       "         [-2.1004e-02,  3.8878e-03,  3.8018e-03, -7.8049e-03,  4.3215e-02],\n",
       "         [-3.8247e-02,  1.6529e-02, -1.9443e-02,  5.4874e-03,  8.4413e-02],\n",
       "         [-3.9230e-02, -3.9958e-03, -1.2453e-02,  2.0941e-02,  6.5309e-02],\n",
       "         [-1.6780e-02,  6.2962e-02, -7.6926e-03,  7.9237e-03,  8.1492e-02],\n",
       "         [-1.4851e-02,  1.5249e-02, -2.7676e-02, -1.8151e-02,  4.0843e-02],\n",
       "         [-1.4258e-02,  4.5359e-02, -1.4874e-02, -2.7419e-02,  5.9590e-02],\n",
       "         [-1.1720e-02,  3.5134e-02, -5.4485e-03,  7.6578e-03,  3.8964e-02],\n",
       "         [ 2.6060e-03,  3.6346e-02, -4.2285e-02, -1.6559e-02,  2.7852e-02],\n",
       "         [-2.2800e-02, -1.7654e-02, -1.3531e-02,  2.6540e-02,  3.8607e-02],\n",
       "         [-4.4447e-02,  2.2149e-02, -3.8157e-02, -1.2100e-02,  9.1785e-02],\n",
       "         [-1.6232e-02,  1.2301e-02,  1.7538e-02, -3.9962e-02,  3.3647e-02],\n",
       "         [-2.7589e-02,  5.6760e-02,  1.8477e-02, -1.1224e-02,  1.9901e-02],\n",
       "         [-1.7341e-02,  4.1480e-02, -5.6717e-03,  1.2663e-02,  9.3541e-02],\n",
       "         [-2.5798e-02,  4.1695e-02, -1.0564e-03, -4.3894e-02,  1.4406e-02],\n",
       "         [-1.6617e-02, -4.5975e-03, -1.5418e-02, -3.9076e-02,  4.1420e-02],\n",
       "         [-2.2974e-02,  3.1017e-02, -2.8851e-02,  3.6363e-03,  1.7553e-02],\n",
       "         [-1.1777e-02,  1.8049e-02, -7.1044e-03, -2.0520e-02,  2.9166e-02],\n",
       "         [-1.1059e-02, -8.2094e-03,  5.8664e-02, -2.4233e-02,  4.4126e-02],\n",
       "         [-1.0108e-02,  7.0223e-03, -7.6899e-03, -1.4725e-03,  5.7222e-02],\n",
       "         [-6.7300e-02,  4.6355e-02, -2.9728e-02, -4.8994e-02,  1.8494e-02],\n",
       "         [-9.2394e-03,  3.2328e-02, -2.8652e-02, -4.4388e-02,  1.5789e-02],\n",
       "         [-2.2133e-02,  6.0854e-02,  1.1945e-02, -8.4900e-03,  3.6160e-02],\n",
       "         [-1.6645e-02,  2.5824e-02, -1.7605e-02, -1.3062e-02,  7.0947e-02],\n",
       "         [-2.2608e-02,  2.1404e-02, -1.5146e-02, -2.5778e-02,  6.5281e-02],\n",
       "         [-4.0232e-03,  3.7327e-02, -1.7504e-02, -4.6591e-02,  4.6829e-02],\n",
       "         [-1.1315e-02,  6.7528e-02,  2.4225e-03, -1.9094e-02,  2.8549e-02],\n",
       "         [-2.9132e-02,  3.3786e-02,  1.7894e-02, -2.4787e-02,  6.6802e-02],\n",
       "         [-1.5274e-02,  1.6502e-03,  7.3578e-03, -4.8874e-02,  1.4451e-02],\n",
       "         [-3.5307e-02,  3.9793e-02,  4.5476e-02,  2.2330e-02,  1.6154e-02],\n",
       "         [-2.6156e-02,  1.8509e-02,  2.4467e-03, -3.3799e-02,  4.7102e-02],\n",
       "         [ 6.3774e-03,  5.8119e-02, -1.2203e-02, -1.1466e-02,  2.3184e-02],\n",
       "         [-5.9716e-04,  3.3686e-02,  2.8907e-02,  2.5409e-02,  3.3638e-02],\n",
       "         [-8.0243e-03,  3.0142e-02, -7.4377e-03,  8.1946e-03,  3.8375e-02],\n",
       "         [-3.2301e-02,  5.8817e-02, -3.1897e-02, -2.2051e-02,  4.0804e-02],\n",
       "         [-2.1863e-02,  2.0949e-02, -1.7030e-02,  1.6307e-02,  5.3476e-02],\n",
       "         [-3.5307e-02,  6.6506e-02, -1.6018e-02,  2.0684e-03,  4.5031e-02],\n",
       "         [-2.1427e-02,  7.7797e-03, -1.1575e-02, -5.2121e-03,  3.5415e-02],\n",
       "         [-2.2632e-02,  5.7239e-02, -2.6852e-02, -2.0879e-02,  4.1922e-02],\n",
       "         [ 2.8686e-03, -3.0492e-02,  8.7883e-03,  3.3031e-02,  6.9261e-02],\n",
       "         [-2.8839e-02,  1.3258e-02,  1.1616e-03, -4.9118e-02,  2.2477e-02],\n",
       "         [-1.4644e-02,  3.6900e-02, -5.4816e-03, -1.8186e-02,  6.1510e-02],\n",
       "         [-1.4366e-02,  2.1380e-02, -1.3584e-03, -2.3441e-02,  4.5927e-02],\n",
       "         [-2.9481e-02,  4.4211e-02, -3.0806e-02, -2.8689e-02,  4.7038e-02],\n",
       "         [-6.2333e-03,  2.9123e-02, -1.4814e-02,  7.5519e-03,  4.7488e-02],\n",
       "         [-3.0381e-02,  3.9562e-02, -1.0047e-02, -1.2568e-02,  3.0515e-02],\n",
       "         [-3.4464e-02,  1.7592e-02, -3.7226e-02, -1.2387e-02,  2.8553e-02],\n",
       "         [-1.6855e-02, -5.2070e-03,  7.8007e-03, -1.1057e-02,  2.5540e-02],\n",
       "         [-4.6970e-02,  8.7867e-02, -4.2704e-03, -1.8867e-02,  5.9539e-02],\n",
       "         [-3.7988e-02,  5.0446e-02,  5.5873e-03, -1.3891e-03,  5.4787e-02],\n",
       "         [ 4.4985e-03,  5.4452e-02, -1.0771e-02, -1.0699e-02,  2.3361e-02],\n",
       "         [-1.6465e-02,  4.8884e-02, -1.3107e-02, -7.5023e-03,  2.0768e-02],\n",
       "         [-1.9686e-02,  1.7767e-02, -2.7227e-02, -2.0351e-02,  4.2195e-02],\n",
       "         [-1.2216e-02,  3.3430e-02, -1.5767e-03, -6.0133e-02,  3.9479e-02],\n",
       "         [-2.6647e-02,  4.1080e-02, -1.1311e-02, -3.4463e-02, -3.8938e-03],\n",
       "         [-3.5615e-02,  2.8999e-02, -1.4147e-02, -2.5232e-02,  2.3111e-02],\n",
       "         [-1.1269e-02, -1.6567e-02, -9.3756e-03, -8.0111e-04,  5.3906e-02],\n",
       "         [-1.9538e-02,  6.4151e-03,  4.3158e-03,  4.9308e-03,  3.3934e-02],\n",
       "         [ 8.6392e-03,  2.6063e-02, -5.7791e-03,  5.5257e-03,  4.2474e-02],\n",
       "         [-3.8618e-02,  5.4104e-02, -1.0914e-02, -1.6741e-02,  4.2995e-02],\n",
       "         [-6.6768e-02,  6.2249e-02, -1.2031e-02, -5.9431e-02,  2.3163e-02],\n",
       "         [-3.9486e-02,  3.9671e-02, -8.7529e-03, -3.2720e-02,  1.1288e-02],\n",
       "         [ 1.2468e-02,  8.4687e-02, -2.4656e-03, -3.3977e-03,  2.0678e-02],\n",
       "         [-9.3468e-03,  5.3908e-02, -1.0294e-03, -8.8817e-03,  4.5210e-02],\n",
       "         [-1.2992e-02,  1.6053e-02, -1.8708e-02, -1.0266e-03,  7.9139e-02],\n",
       "         [-1.9184e-02,  3.2216e-03,  1.1048e-02, -2.1382e-02,  2.9796e-02],\n",
       "         [-2.4876e-02,  5.7640e-02,  2.8070e-03,  1.8962e-02,  6.4640e-02],\n",
       "         [-2.8198e-02,  3.1995e-02, -1.3994e-03, -1.6074e-02,  5.6148e-03],\n",
       "         [-3.0242e-02,  4.4763e-03,  2.9719e-02, -1.7665e-02,  7.0512e-02],\n",
       "         [-1.2231e-02,  4.3709e-02, -3.2536e-02,  2.4421e-02,  7.9883e-02],\n",
       "         [-7.8453e-03,  2.0879e-02, -3.8129e-02,  1.7327e-02,  2.5907e-02],\n",
       "         [-2.5925e-02,  2.2866e-02, -6.3470e-03, -8.7900e-04,  6.2965e-02],\n",
       "         [-8.2373e-03,  3.7045e-02, -8.8042e-03, -1.5368e-02,  7.2631e-02],\n",
       "         [-2.7153e-02,  9.0904e-03,  2.0171e-02, -3.0836e-02,  1.6297e-03],\n",
       "         [-1.6804e-02,  5.2269e-02, -2.9047e-02, -2.2118e-02,  4.2248e-02],\n",
       "         [ 7.1033e-03,  3.1380e-02, -2.4641e-04, -1.3118e-02,  2.4909e-02],\n",
       "         [-1.2658e-02,  3.2287e-02,  3.5949e-03, -3.3582e-02,  3.8531e-02],\n",
       "         [ 1.9612e-02,  1.9242e-02, -2.5549e-02, -3.2520e-03,  4.0406e-02],\n",
       "         [-1.8385e-02,  2.8681e-02, -2.1406e-02,  4.5823e-04,  7.6084e-02],\n",
       "         [-1.6264e-02,  2.4441e-02, -6.7610e-03, -1.8440e-02,  4.7257e-02],\n",
       "         [-4.7354e-04,  2.1341e-02, -5.4695e-03,  3.2507e-05,  2.6784e-02],\n",
       "         [-3.7646e-02,  1.3648e-03, -1.0423e-02, -3.5038e-02,  4.0366e-02],\n",
       "         [-2.0507e-02,  1.7313e-02,  8.6751e-03,  1.9946e-02,  1.0879e-01],\n",
       "         [-2.5437e-02, -1.3669e-02, -2.4650e-02, -7.7491e-03,  6.7836e-03],\n",
       "         [-4.1410e-02,  3.3996e-02,  5.5115e-02,  3.4371e-03,  3.8303e-02],\n",
       "         [-1.0004e-02,  3.8483e-02, -1.3718e-02,  8.8072e-03,  4.3325e-02]],\n",
       "        grad_fn=<AddmmBackward0>),\n",
       " tensor([[ 1.5962e-02,  2.6466e-02, -1.8127e-02, -1.8903e-02, -9.7909e-02],\n",
       "         [ 5.1265e-02,  4.3809e-02,  1.3990e-02, -1.0522e-03, -1.4677e-01],\n",
       "         [ 2.4325e-02,  5.8878e-02,  3.0424e-02,  4.8662e-03, -1.2602e-01],\n",
       "         [ 4.7876e-02,  5.5632e-02,  1.4858e-02,  1.5749e-02, -1.2366e-01],\n",
       "         [ 2.1230e-02,  2.3872e-02, -1.5218e-02, -9.8229e-03, -1.4497e-01],\n",
       "         [ 1.9810e-02,  4.6366e-02,  1.3678e-02,  1.7069e-02, -1.1382e-01],\n",
       "         [ 2.4574e-02,  4.9293e-02,  8.6916e-03,  7.1046e-03, -1.5102e-01],\n",
       "         [ 3.0568e-02,  3.0738e-02,  1.5388e-02,  4.7098e-03, -1.4985e-01],\n",
       "         [ 7.5954e-03,  6.3990e-02,  1.6931e-02, -8.0149e-03, -1.1690e-01],\n",
       "         [ 3.4885e-02,  4.4996e-02,  1.3159e-03,  1.0789e-03, -1.2774e-01],\n",
       "         [ 3.3901e-02,  4.6333e-02, -1.1714e-02, -2.1309e-02, -1.0937e-01],\n",
       "         [ 5.9132e-02,  4.7478e-02,  3.0348e-02, -1.6349e-02, -1.4769e-01],\n",
       "         [ 3.5622e-02,  1.0546e-02, -1.7730e-02,  1.6158e-03, -1.1845e-01],\n",
       "         [ 1.2266e-02,  3.9943e-02, -2.1207e-02, -1.3532e-02, -1.4441e-01],\n",
       "         [ 5.1599e-03,  6.2793e-02,  7.9499e-03,  8.4709e-03, -1.0593e-01],\n",
       "         [ 3.7008e-02,  2.2510e-02,  1.3574e-02, -1.7462e-02, -1.3232e-01],\n",
       "         [ 4.1772e-02,  3.0146e-02,  2.1483e-02, -6.6373e-03, -1.2884e-01],\n",
       "         [ 3.0180e-02,  5.8573e-02,  1.4980e-03, -2.0434e-02, -1.2135e-01],\n",
       "         [ 4.1291e-02,  2.4208e-02, -2.9874e-02, -2.0939e-02, -1.3264e-01],\n",
       "         [ 3.4346e-02,  4.9376e-02,  1.1037e-02,  8.5200e-03, -1.5088e-01],\n",
       "         [ 3.5156e-02,  5.0192e-02, -5.0479e-03, -1.4228e-02, -1.3213e-01],\n",
       "         [ 4.8399e-02,  5.9535e-02,  7.8845e-03,  5.6872e-03, -1.7378e-01],\n",
       "         [ 5.1990e-03,  3.5774e-02,  1.0375e-02,  5.9105e-04, -1.1329e-01],\n",
       "         [ 1.4370e-02,  5.3129e-02,  2.0323e-02, -1.2157e-02, -1.2911e-01],\n",
       "         [ 3.4338e-02,  6.1080e-02,  1.5126e-02,  1.6640e-03, -1.4129e-01],\n",
       "         [ 6.9057e-03,  4.1775e-02, -5.9197e-04,  1.5573e-02, -1.2079e-01],\n",
       "         [ 1.4492e-02,  1.2447e-02, -1.1119e-02,  9.8882e-03, -1.2343e-01],\n",
       "         [ 4.3106e-02, -1.3713e-02, -5.4979e-02,  4.4402e-03, -1.2499e-01],\n",
       "         [ 5.6945e-02,  6.5942e-02,  2.5909e-02, -2.3407e-02, -1.1909e-01],\n",
       "         [ 1.2105e-02,  1.7761e-02,  5.5812e-03,  4.3688e-03, -1.2965e-01],\n",
       "         [ 4.3190e-02,  4.1347e-02,  3.0169e-02,  1.9892e-02, -1.4834e-01],\n",
       "         [ 3.2764e-02,  5.9075e-02, -9.0417e-03,  2.0338e-03, -1.3100e-01],\n",
       "         [ 2.2906e-02,  6.3693e-02, -4.5514e-03,  2.3774e-03, -1.4940e-01],\n",
       "         [ 4.0646e-02,  6.1309e-02, -1.0114e-02,  9.5185e-03, -1.9744e-01],\n",
       "         [ 3.4651e-02,  2.2553e-02, -1.5541e-02, -2.8808e-02, -1.1222e-01],\n",
       "         [ 1.4792e-02,  3.7560e-02, -1.0428e-02,  1.4179e-02, -1.1937e-01],\n",
       "         [ 2.4848e-02,  4.2917e-02,  3.1480e-02, -8.6377e-03, -1.2619e-01],\n",
       "         [ 2.9950e-02,  2.1818e-02,  2.3662e-02,  1.8108e-02, -1.3523e-01],\n",
       "         [ 5.1455e-02,  3.1198e-02, -4.7648e-03, -6.5030e-03, -1.5259e-01],\n",
       "         [ 2.5638e-02,  4.2620e-02,  2.4317e-02,  5.1344e-03, -1.3999e-01],\n",
       "         [ 5.9663e-02,  1.9040e-02,  6.3234e-03,  7.4803e-03, -1.3752e-01],\n",
       "         [ 3.0946e-02,  6.3446e-02,  1.6864e-02, -9.2223e-03, -1.3284e-01],\n",
       "         [ 6.2331e-02,  3.9443e-02,  1.1336e-02, -1.1515e-02, -1.2916e-01],\n",
       "         [ 2.8120e-02,  3.8964e-02, -3.1575e-03, -2.2026e-02, -1.4395e-01],\n",
       "         [ 4.7581e-02,  5.2235e-02,  8.6507e-03, -1.8203e-02, -1.2974e-01],\n",
       "         [ 4.3210e-02,  4.9605e-02, -1.7505e-02, -7.1092e-03, -1.5849e-01],\n",
       "         [ 2.7969e-02,  5.5899e-02,  1.4139e-02, -9.9210e-03, -1.2241e-01],\n",
       "         [ 4.6955e-02,  3.8667e-02, -5.0641e-03,  3.8603e-03, -1.1466e-01],\n",
       "         [ 8.0175e-03,  5.6539e-02,  2.1808e-02,  2.2488e-03, -1.3452e-01],\n",
       "         [ 3.6775e-02,  4.2639e-02, -3.5363e-02,  3.1549e-02, -1.4438e-01],\n",
       "         [ 5.2792e-03,  2.8024e-02,  1.0269e-02,  9.3376e-03, -1.3837e-01],\n",
       "         [ 7.2603e-02,  4.3074e-02, -2.5059e-02, -4.8836e-02, -1.4427e-01],\n",
       "         [ 4.4882e-02,  2.2272e-02, -1.2099e-03, -8.0277e-04, -1.1956e-01],\n",
       "         [ 1.3168e-02,  6.7522e-02,  1.4791e-02,  2.0018e-04, -1.4460e-01],\n",
       "         [ 1.0316e-02,  4.8016e-02,  4.8447e-03,  4.6531e-03, -1.2427e-01],\n",
       "         [ 3.8393e-02,  4.6210e-02,  1.0444e-02, -5.4934e-03, -1.3131e-01],\n",
       "         [ 1.5979e-02,  1.5000e-02, -3.5487e-03,  3.3348e-02, -1.2722e-01],\n",
       "         [ 1.8042e-02,  5.2632e-02,  4.7302e-03,  1.0991e-02, -1.1682e-01],\n",
       "         [ 1.9333e-02,  3.2268e-02, -7.0692e-04, -6.6603e-03, -1.1333e-01],\n",
       "         [ 2.7538e-02,  6.4452e-02, -2.3154e-03,  1.6604e-02, -1.2896e-01],\n",
       "         [ 1.9966e-02,  5.5144e-02,  5.4636e-03,  1.0194e-02, -1.6373e-01],\n",
       "         [ 4.7751e-02,  7.3949e-02,  3.3851e-02, -5.3330e-03, -1.3648e-01],\n",
       "         [ 3.5537e-02,  3.1566e-02,  2.6628e-02, -1.5595e-02, -1.1791e-01],\n",
       "         [ 1.6569e-02,  2.5161e-02,  2.8035e-02, -6.3126e-03, -1.2928e-01],\n",
       "         [ 3.1671e-02,  5.0886e-02, -1.7060e-02,  1.0622e-02, -1.1134e-01],\n",
       "         [ 3.9029e-02,  5.2933e-02,  1.5064e-02,  8.9031e-04, -1.1873e-01],\n",
       "         [ 2.1775e-02,  5.9482e-02,  2.2009e-02,  7.9266e-03, -1.3529e-01],\n",
       "         [ 2.8429e-02,  4.2439e-02,  3.5627e-02,  1.1282e-02, -1.0967e-01],\n",
       "         [ 3.3996e-02,  3.1662e-02,  1.9136e-02, -7.0353e-03, -1.2629e-01],\n",
       "         [ 3.9658e-02,  5.0445e-02,  7.9344e-04,  4.8788e-03, -1.3785e-01],\n",
       "         [ 2.7791e-02,  3.5165e-03,  4.6133e-03,  1.0048e-02, -1.4455e-01],\n",
       "         [ 5.5093e-03,  2.5506e-02, -4.7533e-02,  7.6179e-03, -1.2301e-01],\n",
       "         [ 2.3526e-02,  4.4090e-02, -1.1155e-02, -2.2395e-02, -1.1740e-01],\n",
       "         [ 1.2102e-02,  2.5172e-02, -3.5332e-02,  1.6463e-02, -1.2600e-01],\n",
       "         [ 2.8396e-02,  3.6007e-02, -4.0963e-02, -4.5093e-03, -1.4325e-01],\n",
       "         [ 3.3228e-02,  1.7453e-02, -6.1914e-02, -5.1477e-03, -1.2847e-01],\n",
       "         [ 1.7998e-02,  1.3749e-02,  5.0455e-03, -3.2321e-03, -1.1342e-01],\n",
       "         [ 1.7156e-02,  2.2472e-02,  1.0951e-02, -1.6053e-02, -1.2888e-01],\n",
       "         [ 3.4835e-02,  2.7319e-02,  1.7082e-02, -2.8002e-02, -1.0821e-01],\n",
       "         [ 3.2569e-02,  5.1717e-02, -2.0004e-03, -5.5571e-03, -1.4618e-01],\n",
       "         [ 4.5444e-02,  2.5875e-02,  4.3672e-03,  2.0795e-02, -1.3139e-01],\n",
       "         [ 3.0844e-02,  3.9605e-02,  1.4232e-02, -3.9116e-03, -1.3550e-01],\n",
       "         [ 1.0479e-02,  1.5360e-02,  8.2615e-03,  1.9859e-03, -1.2562e-01],\n",
       "         [ 4.5248e-02,  5.6871e-02,  1.5649e-02,  1.0837e-02, -1.4160e-01],\n",
       "         [ 2.1873e-02,  4.3335e-02,  6.1922e-03, -2.1973e-02, -1.1889e-01],\n",
       "         [ 1.9074e-02,  6.1438e-02,  2.4195e-02, -3.3337e-03, -1.2212e-01],\n",
       "         [ 5.8953e-02,  5.0970e-02,  6.5575e-03, -1.1128e-02, -1.3306e-01],\n",
       "         [ 4.8099e-02,  4.3259e-02,  1.2576e-02, -1.9016e-02, -1.1031e-01],\n",
       "         [ 1.1743e-02,  3.4791e-02,  5.9555e-03,  1.0792e-02, -1.1516e-01],\n",
       "         [ 6.5321e-02,  3.8419e-02,  3.6177e-02, -1.4839e-03, -1.1083e-01],\n",
       "         [ 4.2924e-02,  6.7409e-02,  2.8624e-02,  7.8366e-04, -1.2868e-01],\n",
       "         [ 3.3764e-02,  5.0680e-02,  1.9630e-02,  3.2458e-03, -1.6416e-01],\n",
       "         [ 1.0301e-02,  2.7888e-02, -3.1204e-02,  1.4060e-02, -1.1688e-01],\n",
       "         [ 1.3291e-02,  2.1842e-02, -2.1773e-02, -1.0371e-02, -8.1640e-02],\n",
       "         [ 1.5762e-02,  4.9746e-02,  1.2786e-02, -1.6799e-03, -1.4482e-01],\n",
       "         [ 2.4293e-02,  2.7321e-02, -4.9985e-04,  8.2946e-03, -1.2271e-01],\n",
       "         [ 2.8181e-02,  3.0199e-02,  3.1344e-02, -6.2100e-03, -1.1842e-01],\n",
       "         [ 3.4553e-02,  3.6429e-02,  1.8722e-03, -2.0703e-02, -1.1047e-01],\n",
       "         [ 4.2936e-02,  7.0212e-02,  3.2013e-02, -1.4190e-02, -1.4410e-01],\n",
       "         [ 2.6490e-02,  2.4979e-02,  1.2694e-02,  2.4563e-03, -1.4491e-01],\n",
       "         [ 4.7756e-02,  2.9231e-02,  3.3654e-03, -2.6742e-03, -1.3068e-01],\n",
       "         [ 2.0242e-02,  4.6234e-02,  9.1507e-03, -1.9591e-03, -1.1287e-01],\n",
       "         [ 4.7648e-02,  3.5450e-02,  1.6643e-02, -1.1160e-02, -1.6158e-01],\n",
       "         [ 1.0857e-03,  3.5333e-02,  2.5636e-03,  1.6214e-02, -1.2663e-01],\n",
       "         [-7.9490e-05,  4.8828e-02, -3.4053e-03,  1.9621e-02, -1.2232e-01],\n",
       "         [ 4.5531e-02,  2.2955e-02, -2.9970e-02,  1.7527e-02, -1.4803e-01],\n",
       "         [ 3.1685e-02,  5.2276e-02,  1.7425e-03, -1.7619e-02, -1.2516e-01],\n",
       "         [ 1.1559e-02,  2.3481e-02, -1.2695e-02,  1.2865e-03, -1.2809e-01],\n",
       "         [ 5.5989e-02,  4.3758e-02,  9.3292e-03, -4.6284e-03, -1.4293e-01],\n",
       "         [ 2.3772e-02,  2.1269e-02,  8.3416e-03,  2.4721e-02, -1.5098e-01],\n",
       "         [ 3.5057e-02,  6.1453e-02,  5.4718e-03, -1.3962e-02, -1.4125e-01],\n",
       "         [ 4.1722e-02,  3.6119e-02, -1.8152e-02,  6.1007e-03, -1.4174e-01],\n",
       "         [ 6.4054e-02,  1.6907e-02,  2.1345e-02, -3.2798e-02, -1.1408e-01],\n",
       "         [ 2.6413e-02,  6.2233e-02, -1.2960e-02, -1.4074e-02, -1.4872e-01],\n",
       "         [ 2.4242e-02,  6.8243e-02,  2.3690e-02,  3.2419e-03, -1.2158e-01],\n",
       "         [ 2.5368e-02,  4.1824e-03, -4.1531e-02,  1.1238e-02, -1.3738e-01],\n",
       "         [ 2.4601e-02,  5.1154e-02,  4.8282e-03,  1.1030e-02, -1.0482e-01],\n",
       "         [ 1.1531e-02,  3.3224e-02, -1.6362e-02,  2.0489e-02, -1.0652e-01],\n",
       "         [ 9.8605e-03,  6.0920e-02,  3.1606e-03,  1.2385e-02, -1.4776e-01],\n",
       "         [ 2.2665e-02,  3.8466e-02, -2.4244e-02,  1.3879e-02, -1.2626e-01],\n",
       "         [ 3.4976e-02,  2.7014e-02, -4.2096e-03,  1.4365e-02, -1.4419e-01],\n",
       "         [-7.2366e-03,  4.8738e-02,  2.0501e-02, -3.4989e-03, -1.3293e-01],\n",
       "         [ 1.9253e-02,  5.5306e-02, -9.8902e-03,  1.9763e-02, -1.2177e-01],\n",
       "         [ 5.5102e-02,  1.8270e-02,  8.5430e-03, -1.8073e-02, -1.4968e-01],\n",
       "         [ 4.9888e-02,  4.7331e-02,  6.2704e-03, -3.4053e-02, -1.4651e-01],\n",
       "         [ 1.8056e-02,  4.2713e-02, -1.0393e-02,  2.2267e-02, -1.2509e-01],\n",
       "         [ 3.2784e-02,  1.6836e-02, -1.5335e-02, -6.2084e-03, -1.3335e-01],\n",
       "         [ 4.1693e-02,  8.8490e-03, -2.0151e-02,  9.7526e-03, -1.0594e-01]],\n",
       "        grad_fn=<AddmmBackward0>))"
      ]
     },
     "execution_count": 5,
     "metadata": {},
     "output_type": "execute_result"
    }
   ],
   "source": [
    "bayes_vae = vae.BayesVAE(hidden_dim=5)\n",
    "bayes_vae(X)"
   ]
  },
  {
   "cell_type": "markdown",
   "id": "963dec5f-347d-40f6-b259-c1bed00f82ea",
   "metadata": {},
   "source": [
    "# Train model"
   ]
  },
  {
   "cell_type": "code",
   "execution_count": 6,
   "id": "677d6c1c-d5f7-496a-847e-607556847ffb",
   "metadata": {},
   "outputs": [
    {
     "name": "stderr",
     "output_type": "stream",
     "text": [
      "GPU available: True (cuda), used: True\n",
      "TPU available: False, using: 0 TPU cores\n",
      "IPU available: False, using: 0 IPUs\n",
      "HPU available: False, using: 0 HPUs\n"
     ]
    }
   ],
   "source": [
    "# Model\n",
    "bayes_vae = vae.BayesVAE(hidden_dim=2)\n",
    "model = vae.LitBayesVAE(vae=bayes_vae, logpx_loss=LOGPX_LOSS)\n",
    "\n",
    "# Callbacks\n",
    "loss_callback = vae.VAELossCallback()\n",
    "reconstruct_cb = vae.VAEImageReconstructionCallback()\n",
    "cb_checkpoint = ModelCheckpoint(\n",
    "    dirpath=pmldiku.FP_MODELS,\n",
    "    filename='mnist-BayesVAE-BCE-{epoch:02d}-{val_loss:.2f}'\n",
    ")\n",
    "cb_earlystopping = EarlyStopping(monitor=\"val_loss\", mode=\"min\", patience=5)\n",
    "callbacks = [loss_callback, reconstruct_cb, cb_checkpoint, cb_earlystopping]\n",
    "\n",
    "# Trainer\n",
    "trainer = pl.Trainer(max_epochs=-1, devices=1, accelerator=DEVICE_NAME, callbacks=callbacks)"
   ]
  },
  {
   "cell_type": "code",
   "execution_count": 7,
   "id": "314fc20c-6c19-49e7-8aba-d753d65142aa",
   "metadata": {},
   "outputs": [
    {
     "name": "stderr",
     "output_type": "stream",
     "text": [
      "/scratch/fjr906/miniconda3/envs/pml/lib/python3.10/site-packages/pytorch_lightning/callbacks/model_checkpoint.py:604: UserWarning: Checkpoint directory /scratch/fjr906/projects/pml/pmldiku-exam-paper/code/models exists and is not empty.\n",
      "  rank_zero_warn(f\"Checkpoint directory {dirpath} exists and is not empty.\")\n",
      "LOCAL_RANK: 0 - CUDA_VISIBLE_DEVICES: [0,1,2]\n",
      "\n",
      "  | Name | Type     | Params\n",
      "----------------------------------\n",
      "0 | vae  | BayesVAE | 985 K \n",
      "----------------------------------\n",
      "985 K     Trainable params\n",
      "0         Non-trainable params\n",
      "985 K     Total params\n",
      "3.943     Total estimated model params size (MB)\n"
     ]
    },
    {
     "data": {
      "application/vnd.jupyter.widget-view+json": {
       "model_id": "",
       "version_major": 2,
       "version_minor": 0
      },
      "text/plain": [
       "Sanity Checking: 0it [00:00, ?it/s]"
      ]
     },
     "metadata": {},
     "output_type": "display_data"
    },
    {
     "data": {
      "application/vnd.jupyter.widget-view+json": {
       "model_id": "47b41ec250a14b4da944b34b4b538d94",
       "version_major": 2,
       "version_minor": 0
      },
      "text/plain": [
       "Training: 0it [00:00, ?it/s]"
      ]
     },
     "metadata": {},
     "output_type": "display_data"
    },
    {
     "data": {
      "application/vnd.jupyter.widget-view+json": {
       "model_id": "",
       "version_major": 2,
       "version_minor": 0
      },
      "text/plain": [
       "Validation: 0it [00:00, ?it/s]"
      ]
     },
     "metadata": {},
     "output_type": "display_data"
    },
    {
     "data": {
      "application/vnd.jupyter.widget-view+json": {
       "model_id": "",
       "version_major": 2,
       "version_minor": 0
      },
      "text/plain": [
       "Validation: 0it [00:00, ?it/s]"
      ]
     },
     "metadata": {},
     "output_type": "display_data"
    },
    {
     "data": {
      "application/vnd.jupyter.widget-view+json": {
       "model_id": "",
       "version_major": 2,
       "version_minor": 0
      },
      "text/plain": [
       "Validation: 0it [00:00, ?it/s]"
      ]
     },
     "metadata": {},
     "output_type": "display_data"
    },
    {
     "data": {
      "application/vnd.jupyter.widget-view+json": {
       "model_id": "",
       "version_major": 2,
       "version_minor": 0
      },
      "text/plain": [
       "Validation: 0it [00:00, ?it/s]"
      ]
     },
     "metadata": {},
     "output_type": "display_data"
    },
    {
     "data": {
      "application/vnd.jupyter.widget-view+json": {
       "model_id": "",
       "version_major": 2,
       "version_minor": 0
      },
      "text/plain": [
       "Validation: 0it [00:00, ?it/s]"
      ]
     },
     "metadata": {},
     "output_type": "display_data"
    },
    {
     "data": {
      "application/vnd.jupyter.widget-view+json": {
       "model_id": "",
       "version_major": 2,
       "version_minor": 0
      },
      "text/plain": [
       "Validation: 0it [00:00, ?it/s]"
      ]
     },
     "metadata": {},
     "output_type": "display_data"
    },
    {
     "data": {
      "application/vnd.jupyter.widget-view+json": {
       "model_id": "",
       "version_major": 2,
       "version_minor": 0
      },
      "text/plain": [
       "Validation: 0it [00:00, ?it/s]"
      ]
     },
     "metadata": {},
     "output_type": "display_data"
    },
    {
     "data": {
      "application/vnd.jupyter.widget-view+json": {
       "model_id": "",
       "version_major": 2,
       "version_minor": 0
      },
      "text/plain": [
       "Validation: 0it [00:00, ?it/s]"
      ]
     },
     "metadata": {},
     "output_type": "display_data"
    },
    {
     "data": {
      "application/vnd.jupyter.widget-view+json": {
       "model_id": "",
       "version_major": 2,
       "version_minor": 0
      },
      "text/plain": [
       "Validation: 0it [00:00, ?it/s]"
      ]
     },
     "metadata": {},
     "output_type": "display_data"
    },
    {
     "data": {
      "application/vnd.jupyter.widget-view+json": {
       "model_id": "",
       "version_major": 2,
       "version_minor": 0
      },
      "text/plain": [
       "Validation: 0it [00:00, ?it/s]"
      ]
     },
     "metadata": {},
     "output_type": "display_data"
    },
    {
     "data": {
      "application/vnd.jupyter.widget-view+json": {
       "model_id": "",
       "version_major": 2,
       "version_minor": 0
      },
      "text/plain": [
       "Validation: 0it [00:00, ?it/s]"
      ]
     },
     "metadata": {},
     "output_type": "display_data"
    },
    {
     "data": {
      "application/vnd.jupyter.widget-view+json": {
       "model_id": "",
       "version_major": 2,
       "version_minor": 0
      },
      "text/plain": [
       "Validation: 0it [00:00, ?it/s]"
      ]
     },
     "metadata": {},
     "output_type": "display_data"
    },
    {
     "data": {
      "application/vnd.jupyter.widget-view+json": {
       "model_id": "",
       "version_major": 2,
       "version_minor": 0
      },
      "text/plain": [
       "Validation: 0it [00:00, ?it/s]"
      ]
     },
     "metadata": {},
     "output_type": "display_data"
    },
    {
     "data": {
      "application/vnd.jupyter.widget-view+json": {
       "model_id": "",
       "version_major": 2,
       "version_minor": 0
      },
      "text/plain": [
       "Validation: 0it [00:00, ?it/s]"
      ]
     },
     "metadata": {},
     "output_type": "display_data"
    },
    {
     "data": {
      "application/vnd.jupyter.widget-view+json": {
       "model_id": "",
       "version_major": 2,
       "version_minor": 0
      },
      "text/plain": [
       "Validation: 0it [00:00, ?it/s]"
      ]
     },
     "metadata": {},
     "output_type": "display_data"
    },
    {
     "data": {
      "application/vnd.jupyter.widget-view+json": {
       "model_id": "",
       "version_major": 2,
       "version_minor": 0
      },
      "text/plain": [
       "Validation: 0it [00:00, ?it/s]"
      ]
     },
     "metadata": {},
     "output_type": "display_data"
    },
    {
     "data": {
      "application/vnd.jupyter.widget-view+json": {
       "model_id": "",
       "version_major": 2,
       "version_minor": 0
      },
      "text/plain": [
       "Validation: 0it [00:00, ?it/s]"
      ]
     },
     "metadata": {},
     "output_type": "display_data"
    },
    {
     "data": {
      "application/vnd.jupyter.widget-view+json": {
       "model_id": "",
       "version_major": 2,
       "version_minor": 0
      },
      "text/plain": [
       "Validation: 0it [00:00, ?it/s]"
      ]
     },
     "metadata": {},
     "output_type": "display_data"
    },
    {
     "data": {
      "application/vnd.jupyter.widget-view+json": {
       "model_id": "",
       "version_major": 2,
       "version_minor": 0
      },
      "text/plain": [
       "Validation: 0it [00:00, ?it/s]"
      ]
     },
     "metadata": {},
     "output_type": "display_data"
    },
    {
     "data": {
      "application/vnd.jupyter.widget-view+json": {
       "model_id": "",
       "version_major": 2,
       "version_minor": 0
      },
      "text/plain": [
       "Validation: 0it [00:00, ?it/s]"
      ]
     },
     "metadata": {},
     "output_type": "display_data"
    },
    {
     "data": {
      "application/vnd.jupyter.widget-view+json": {
       "model_id": "",
       "version_major": 2,
       "version_minor": 0
      },
      "text/plain": [
       "Validation: 0it [00:00, ?it/s]"
      ]
     },
     "metadata": {},
     "output_type": "display_data"
    },
    {
     "data": {
      "application/vnd.jupyter.widget-view+json": {
       "model_id": "",
       "version_major": 2,
       "version_minor": 0
      },
      "text/plain": [
       "Validation: 0it [00:00, ?it/s]"
      ]
     },
     "metadata": {},
     "output_type": "display_data"
    },
    {
     "data": {
      "application/vnd.jupyter.widget-view+json": {
       "model_id": "",
       "version_major": 2,
       "version_minor": 0
      },
      "text/plain": [
       "Validation: 0it [00:00, ?it/s]"
      ]
     },
     "metadata": {},
     "output_type": "display_data"
    },
    {
     "data": {
      "application/vnd.jupyter.widget-view+json": {
       "model_id": "",
       "version_major": 2,
       "version_minor": 0
      },
      "text/plain": [
       "Validation: 0it [00:00, ?it/s]"
      ]
     },
     "metadata": {},
     "output_type": "display_data"
    },
    {
     "data": {
      "application/vnd.jupyter.widget-view+json": {
       "model_id": "",
       "version_major": 2,
       "version_minor": 0
      },
      "text/plain": [
       "Validation: 0it [00:00, ?it/s]"
      ]
     },
     "metadata": {},
     "output_type": "display_data"
    },
    {
     "data": {
      "application/vnd.jupyter.widget-view+json": {
       "model_id": "",
       "version_major": 2,
       "version_minor": 0
      },
      "text/plain": [
       "Validation: 0it [00:00, ?it/s]"
      ]
     },
     "metadata": {},
     "output_type": "display_data"
    },
    {
     "data": {
      "application/vnd.jupyter.widget-view+json": {
       "model_id": "",
       "version_major": 2,
       "version_minor": 0
      },
      "text/plain": [
       "Validation: 0it [00:00, ?it/s]"
      ]
     },
     "metadata": {},
     "output_type": "display_data"
    },
    {
     "data": {
      "application/vnd.jupyter.widget-view+json": {
       "model_id": "",
       "version_major": 2,
       "version_minor": 0
      },
      "text/plain": [
       "Validation: 0it [00:00, ?it/s]"
      ]
     },
     "metadata": {},
     "output_type": "display_data"
    },
    {
     "data": {
      "application/vnd.jupyter.widget-view+json": {
       "model_id": "",
       "version_major": 2,
       "version_minor": 0
      },
      "text/plain": [
       "Validation: 0it [00:00, ?it/s]"
      ]
     },
     "metadata": {},
     "output_type": "display_data"
    },
    {
     "data": {
      "application/vnd.jupyter.widget-view+json": {
       "model_id": "",
       "version_major": 2,
       "version_minor": 0
      },
      "text/plain": [
       "Validation: 0it [00:00, ?it/s]"
      ]
     },
     "metadata": {},
     "output_type": "display_data"
    },
    {
     "data": {
      "application/vnd.jupyter.widget-view+json": {
       "model_id": "",
       "version_major": 2,
       "version_minor": 0
      },
      "text/plain": [
       "Validation: 0it [00:00, ?it/s]"
      ]
     },
     "metadata": {},
     "output_type": "display_data"
    },
    {
     "data": {
      "application/vnd.jupyter.widget-view+json": {
       "model_id": "",
       "version_major": 2,
       "version_minor": 0
      },
      "text/plain": [
       "Validation: 0it [00:00, ?it/s]"
      ]
     },
     "metadata": {},
     "output_type": "display_data"
    },
    {
     "data": {
      "application/vnd.jupyter.widget-view+json": {
       "model_id": "",
       "version_major": 2,
       "version_minor": 0
      },
      "text/plain": [
       "Validation: 0it [00:00, ?it/s]"
      ]
     },
     "metadata": {},
     "output_type": "display_data"
    },
    {
     "data": {
      "application/vnd.jupyter.widget-view+json": {
       "model_id": "",
       "version_major": 2,
       "version_minor": 0
      },
      "text/plain": [
       "Validation: 0it [00:00, ?it/s]"
      ]
     },
     "metadata": {},
     "output_type": "display_data"
    },
    {
     "data": {
      "application/vnd.jupyter.widget-view+json": {
       "model_id": "",
       "version_major": 2,
       "version_minor": 0
      },
      "text/plain": [
       "Validation: 0it [00:00, ?it/s]"
      ]
     },
     "metadata": {},
     "output_type": "display_data"
    },
    {
     "data": {
      "application/vnd.jupyter.widget-view+json": {
       "model_id": "",
       "version_major": 2,
       "version_minor": 0
      },
      "text/plain": [
       "Validation: 0it [00:00, ?it/s]"
      ]
     },
     "metadata": {},
     "output_type": "display_data"
    },
    {
     "data": {
      "application/vnd.jupyter.widget-view+json": {
       "model_id": "",
       "version_major": 2,
       "version_minor": 0
      },
      "text/plain": [
       "Validation: 0it [00:00, ?it/s]"
      ]
     },
     "metadata": {},
     "output_type": "display_data"
    },
    {
     "data": {
      "application/vnd.jupyter.widget-view+json": {
       "model_id": "",
       "version_major": 2,
       "version_minor": 0
      },
      "text/plain": [
       "Validation: 0it [00:00, ?it/s]"
      ]
     },
     "metadata": {},
     "output_type": "display_data"
    },
    {
     "data": {
      "application/vnd.jupyter.widget-view+json": {
       "model_id": "",
       "version_major": 2,
       "version_minor": 0
      },
      "text/plain": [
       "Validation: 0it [00:00, ?it/s]"
      ]
     },
     "metadata": {},
     "output_type": "display_data"
    },
    {
     "data": {
      "application/vnd.jupyter.widget-view+json": {
       "model_id": "",
       "version_major": 2,
       "version_minor": 0
      },
      "text/plain": [
       "Validation: 0it [00:00, ?it/s]"
      ]
     },
     "metadata": {},
     "output_type": "display_data"
    },
    {
     "data": {
      "application/vnd.jupyter.widget-view+json": {
       "model_id": "",
       "version_major": 2,
       "version_minor": 0
      },
      "text/plain": [
       "Validation: 0it [00:00, ?it/s]"
      ]
     },
     "metadata": {},
     "output_type": "display_data"
    },
    {
     "data": {
      "application/vnd.jupyter.widget-view+json": {
       "model_id": "",
       "version_major": 2,
       "version_minor": 0
      },
      "text/plain": [
       "Validation: 0it [00:00, ?it/s]"
      ]
     },
     "metadata": {},
     "output_type": "display_data"
    },
    {
     "data": {
      "application/vnd.jupyter.widget-view+json": {
       "model_id": "",
       "version_major": 2,
       "version_minor": 0
      },
      "text/plain": [
       "Validation: 0it [00:00, ?it/s]"
      ]
     },
     "metadata": {},
     "output_type": "display_data"
    },
    {
     "data": {
      "application/vnd.jupyter.widget-view+json": {
       "model_id": "",
       "version_major": 2,
       "version_minor": 0
      },
      "text/plain": [
       "Validation: 0it [00:00, ?it/s]"
      ]
     },
     "metadata": {},
     "output_type": "display_data"
    },
    {
     "data": {
      "application/vnd.jupyter.widget-view+json": {
       "model_id": "",
       "version_major": 2,
       "version_minor": 0
      },
      "text/plain": [
       "Validation: 0it [00:00, ?it/s]"
      ]
     },
     "metadata": {},
     "output_type": "display_data"
    },
    {
     "data": {
      "application/vnd.jupyter.widget-view+json": {
       "model_id": "",
       "version_major": 2,
       "version_minor": 0
      },
      "text/plain": [
       "Validation: 0it [00:00, ?it/s]"
      ]
     },
     "metadata": {},
     "output_type": "display_data"
    },
    {
     "data": {
      "application/vnd.jupyter.widget-view+json": {
       "model_id": "",
       "version_major": 2,
       "version_minor": 0
      },
      "text/plain": [
       "Validation: 0it [00:00, ?it/s]"
      ]
     },
     "metadata": {},
     "output_type": "display_data"
    },
    {
     "data": {
      "application/vnd.jupyter.widget-view+json": {
       "model_id": "",
       "version_major": 2,
       "version_minor": 0
      },
      "text/plain": [
       "Validation: 0it [00:00, ?it/s]"
      ]
     },
     "metadata": {},
     "output_type": "display_data"
    },
    {
     "data": {
      "application/vnd.jupyter.widget-view+json": {
       "model_id": "",
       "version_major": 2,
       "version_minor": 0
      },
      "text/plain": [
       "Validation: 0it [00:00, ?it/s]"
      ]
     },
     "metadata": {},
     "output_type": "display_data"
    },
    {
     "data": {
      "application/vnd.jupyter.widget-view+json": {
       "model_id": "",
       "version_major": 2,
       "version_minor": 0
      },
      "text/plain": [
       "Validation: 0it [00:00, ?it/s]"
      ]
     },
     "metadata": {},
     "output_type": "display_data"
    }
   ],
   "source": [
    "trainer.fit(model=model, train_dataloaders=train_loader, val_dataloaders=val_loader)"
   ]
  },
  {
   "cell_type": "code",
   "execution_count": 10,
   "id": "ed65285f-9915-4fe7-8ba8-d6426c68a98d",
   "metadata": {},
   "outputs": [
    {
     "data": {
      "text/plain": [
       "(array([False, False, False, False, False, False, False, False, False,\n",
       "        False, False, False, False,  True, False, False,  True,  True,\n",
       "        False,  True, False, False, False,  True, False, False, False,\n",
       "         True, False, False,  True, False, False, False,  True, False,\n",
       "         True, False,  True,  True, False,  True,  True, False, False,\n",
       "         True, False,  True, False,  True]),\n",
       " array([45939.23046875, 18214.46289062, 16704.99804688, 16493.23828125,\n",
       "        16365.34375   , 16275.37402344, 16084.41113281, 15905.59179688,\n",
       "        15829.6484375 , 15715.14355469, 15593.95214844, 15532.125     ,\n",
       "        15463.58886719, 15368.88769531, 15371.75195312, 15337.83398438,\n",
       "        15256.63867188, 15271.87695312, 15275.91992188, 15193.09472656,\n",
       "        15242.57421875, 15212.55664062, 15168.16992188, 15159.78710938,\n",
       "        15182.64941406, 15162.05078125, 15104.81640625, 15079.12304688,\n",
       "        15086.015625  , 15067.01757812, 15062.84667969, 15083.91210938,\n",
       "        15077.58886719, 15049.06835938, 15038.3359375 , 15056.77148438,\n",
       "        15020.25878906, 15061.84179688, 14983.72167969, 14997.97460938,\n",
       "        15016.01464844, 14967.0859375 , 14974.41796875, 14981.56835938,\n",
       "        14956.08984375, 14887.36621094, 14937.6796875 , 14904.89648438,\n",
       "        14966.87988281, 14914.23046875, 14971.85742188]))"
      ]
     },
     "execution_count": 10,
     "metadata": {},
     "output_type": "execute_result"
    },
    {
     "data": {
      "image/png": "[encoded data removed]",
      "text/plain": [
       "<Figure size 400x400 with 1 Axes>"
      ]
     },
     "metadata": {},
     "output_type": "display_data"
    }
   ],
   "source": [
    "losses = np.array(loss_callback.val_loss)\n",
    "model_utils.plot_loss(losses)\n",
    "np.diff(losses) > 0, losses"
   ]
  },
  {
   "cell_type": "markdown",
   "id": "a9781abc-0afb-4bbe-9949-2d19e72a3c8f",
   "metadata": {},
   "source": [
    "# Reconstruction of model for each epoch of training"
   ]
  },
  {
   "cell_type": "code",
   "execution_count": 9,
   "id": "a937c7c1-b2de-4a86-95d3-0c7ed644f146",
   "metadata": {},
   "outputs": [
    {
     "data": {
      "image/png": "[encoded data removed]",
      "text/plain": [
       "<Figure size 1600x1600 with 16 Axes>"
      ]
     },
     "metadata": {},
     "output_type": "display_data"
    }
   ],
   "source": [
    "# Take first image of each batch of reconstructed images\n",
    "images = reconstruct_cb.samples[-16:, 0, :, :].cpu().numpy()\n",
    "start = cb_earlystopping.stopped_epoch - 16\n",
    "model_utils.plot_image_reconstruction(images, num_cols=4, slim=20, start=start)"
   ]
  },
  {
   "cell_type": "markdown",
   "id": "083fe94a",
   "metadata": {},
   "source": [
    "# Expected value in latent space for each number"
   ]
  },
  {
   "cell_type": "code",
   "execution_count": 11,
   "id": "52e02acc",
   "metadata": {},
   "outputs": [
    {
     "data": {
      "image/png": "[encoded data removed]",
      "text/plain": [
       "<Figure size 640x480 with 1 Axes>"
      ]
     },
     "metadata": {},
     "output_type": "display_data"
    }
   ],
   "source": [
    "means_plot, labels = vae.encode_means(model.vae, val_loader)\n",
    "plot_args = dict(title=\"Encoded means\", xlabel=r\"$z_1$\", ylabel=r\"$z_2$\")\n",
    "model_utils.plot_encoded(means_plot, labels, **plot_args)"
   ]
  },
  {
   "cell_type": "markdown",
   "id": "ff0f5232-2bb9-45de-a1ce-0337c8e71d8f",
   "metadata": {},
   "source": [
    "# Reconstruction of equally spaced gaussian noise"
   ]
  },
  {
   "cell_type": "code",
   "execution_count": 17,
   "id": "515ea1f5-0911-4106-b701-bf4e2c2c1496",
   "metadata": {},
   "outputs": [
    {
     "ename": "RuntimeError",
     "evalue": "mat1 and mat2 shapes cannot be multiplied (144x2 and 10x400)",
     "output_type": "error",
     "traceback": [
      "\u001b[0;31m---------------------------------------------------------------------------\u001b[0m",
      "\u001b[0;31mRuntimeError\u001b[0m                              Traceback (most recent call last)",
      "Cell \u001b[0;32mIn[17], line 2\u001b[0m\n\u001b[1;32m      1\u001b[0m gauss_vals \u001b[38;5;241m=\u001b[39m model_utils\u001b[38;5;241m.\u001b[39mconstruct_gauss_grid(M\u001b[38;5;241m=\u001b[39m\u001b[38;5;241m12\u001b[39m)\n\u001b[0;32m----> 2\u001b[0m decoded_imgs \u001b[38;5;241m=\u001b[39m \u001b[43mmodel\u001b[49m\u001b[38;5;241;43m.\u001b[39;49m\u001b[43mvae\u001b[49m\u001b[38;5;241;43m.\u001b[39;49m\u001b[43mdecode\u001b[49m\u001b[43m(\u001b[49m\u001b[43mgauss_vals\u001b[49m\u001b[43m)\u001b[49m\u001b[38;5;241m.\u001b[39mdetach()\u001b[38;5;241m.\u001b[39mnumpy()\n\u001b[1;32m      3\u001b[0m model_utils\u001b[38;5;241m.\u001b[39mplot_gauss_grid_imgs(decoded_imgs)\n",
      "File \u001b[0;32m/scratch/fjr906/projects/pml/pmldiku-exam-paper/code/src/pmldiku/vae.py:234\u001b[0m, in \u001b[0;36mBayesVAE.decode\u001b[0;34m(self, z)\u001b[0m\n\u001b[1;32m    232\u001b[0m theta \u001b[38;5;241m=\u001b[39m \u001b[38;5;28mself\u001b[39m\u001b[38;5;241m.\u001b[39mdraw_posterior_theta()\n\u001b[1;32m    233\u001b[0m \u001b[38;5;28mself\u001b[39m\u001b[38;5;241m.\u001b[39mupdate_decoder_params(theta)\n\u001b[0;32m--> 234\u001b[0m h3 \u001b[38;5;241m=\u001b[39m F\u001b[38;5;241m.\u001b[39mrelu(\u001b[38;5;28;43mself\u001b[39;49m\u001b[38;5;241;43m.\u001b[39;49m\u001b[43mdecoder\u001b[49m\u001b[43m[\u001b[49m\u001b[38;5;124;43m\"\u001b[39;49m\u001b[38;5;124;43mfc3\u001b[39;49m\u001b[38;5;124;43m\"\u001b[39;49m\u001b[43m]\u001b[49m\u001b[43m(\u001b[49m\u001b[43mz\u001b[49m\u001b[43m)\u001b[49m)\n\u001b[1;32m    235\u001b[0m \u001b[38;5;28;01mreturn\u001b[39;00m torch\u001b[38;5;241m.\u001b[39msigmoid(\u001b[38;5;28mself\u001b[39m\u001b[38;5;241m.\u001b[39mdecoder[\u001b[38;5;124m\"\u001b[39m\u001b[38;5;124mfc4\u001b[39m\u001b[38;5;124m\"\u001b[39m](h3))\n",
      "File \u001b[0;32m/scratch/fjr906/projects/pml/pmldiku-exam-paper/code/src/pmldiku/vae.py:107\u001b[0m, in \u001b[0;36mBayesVAELinearParams.__call__\u001b[0;34m(self, input)\u001b[0m\n\u001b[1;32m    106\u001b[0m \u001b[38;5;28;01mdef\u001b[39;00m \u001b[38;5;21m__call__\u001b[39m(\u001b[38;5;28mself\u001b[39m, \u001b[38;5;28minput\u001b[39m: torch\u001b[38;5;241m.\u001b[39mTensor):\n\u001b[0;32m--> 107\u001b[0m     \u001b[38;5;28;01mreturn\u001b[39;00m \u001b[43mF\u001b[49m\u001b[38;5;241;43m.\u001b[39;49m\u001b[43mlinear\u001b[49m\u001b[43m(\u001b[49m\u001b[38;5;28;43minput\u001b[39;49m\u001b[43m,\u001b[49m\u001b[43m \u001b[49m\u001b[43mweight\u001b[49m\u001b[38;5;241;43m=\u001b[39;49m\u001b[38;5;28;43mself\u001b[39;49m\u001b[38;5;241;43m.\u001b[39;49m\u001b[43mweights\u001b[49m\u001b[43m,\u001b[49m\u001b[43m \u001b[49m\u001b[43mbias\u001b[49m\u001b[38;5;241;43m=\u001b[39;49m\u001b[38;5;28;43mself\u001b[39;49m\u001b[38;5;241;43m.\u001b[39;49m\u001b[43mbias\u001b[49m\u001b[43m)\u001b[49m\n",
      "\u001b[0;31mRuntimeError\u001b[0m: mat1 and mat2 shapes cannot be multiplied (144x2 and 10x400)"
     ]
    }
   ],
   "source": [
    "gauss_vals = model_utils.construct_gauss_grid(M=12)\n",
    "decoded_imgs = model.vae.decode(gauss_vals).detach().numpy()\n",
    "model_utils.plot_gauss_grid_imgs(decoded_imgs)"
   ]
  },
  {
   "cell_type": "markdown",
   "id": "97da2eb9-22d9-4e0c-9bfd-17957d72a622",
   "metadata": {},
   "source": [
    "# Inspect output"
   ]
  },
  {
   "cell_type": "code",
   "execution_count": 12,
   "id": "a34b5f6e-bef0-4231-89dd-3311aac2ddac",
   "metadata": {},
   "outputs": [
    {
     "data": {
      "text/plain": [
       "tensor([0.7265, 0.7667, 0.7192,  ..., 1.0112, 0.9910, 1.0033],\n",
       "       grad_fn=<SqrtBackward0>)"
      ]
     },
     "execution_count": 12,
     "metadata": {},
     "output_type": "execute_result"
    }
   ],
   "source": [
    "model.vae.logvar_theta.exp().sqrt()"
   ]
  },
  {
   "cell_type": "code",
   "execution_count": 13,
   "id": "802aada1-1915-4669-826d-b0e15d0dd22b",
   "metadata": {},
   "outputs": [
    {
     "data": {
      "text/plain": [
       "tensor([0.7265, 0.7667, 0.7192,  ..., 1.0112, 0.9910, 1.0033],\n",
       "       grad_fn=<ExpBackward0>)"
      ]
     },
     "execution_count": 13,
     "metadata": {},
     "output_type": "execute_result"
    }
   ],
   "source": [
    "torch.exp(0.5 * model.vae.logvar_theta)"
   ]
  },
  {
   "cell_type": "code",
   "execution_count": null,
   "id": "52386381-2d88-4788-b685-3ec3d939ff9f",
   "metadata": {},
   "outputs": [],
   "source": [
    "import seaborn as sns\n",
    "means = model.vae.mu_theta.detach().numpy()\n",
    "sns.histplot(means)"
   ]
  }
 ],
 "metadata": {
  "kernelspec": {
   "display_name": "Python 3 (ipykernel)",
   "language": "python",
   "name": "python3"
  },
  "language_info": {
   "codemirror_mode": {
    "name": "ipython",
    "version": 3
   },
   "file_extension": ".py",
   "mimetype": "text/x-python",
   "name": "python",
   "nbconvert_exporter": "python",
   "pygments_lexer": "ipython3",
   "version": "3.10.8"
  },
  "vscode": {
   "interpreter": {
    "hash": "3d08e4f18bc401ba7a99c9eb02351518d315c4f9bdd03008a755c92232f7c69d"
   }
  }
 },
 "nbformat": 4,
 "nbformat_minor": 5
}
