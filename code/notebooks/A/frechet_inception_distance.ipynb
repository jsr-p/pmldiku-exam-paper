{
 "cells": [
  {
   "cell_type": "code",
   "execution_count": 1,
   "metadata": {},
   "outputs": [],
   "source": [
    "from typing import Any, Callable, Dict, List\n",
    "import sys, os, pathlib\n",
    "from pathlib import Path\n",
    "\n",
    "import torch\n",
    "import torch.utils.data\n",
    "from torch import nn, optim\n",
    "from torch.nn import functional as F\n",
    "\n",
    "from torchvision import datasets, transforms\n",
    "from torchvision.transforms import Compose, ToTensor, Lambda\n",
    "from torchvision.utils import save_image\n",
    "import pytorch_lightning as pl\n",
    "\n",
    "import matplotlib.pyplot as plt\n",
    "import numpy as np\n",
    "\n",
    "from pytorch_lightning.callbacks import ModelCheckpoint, EarlyStopping, TQDMProgressBar, LearningRateMonitor\n",
    "\n",
    "import pmldiku\n",
    "from pmldiku import data, model_utils, output_utils, fid\n",
    "\n",
    "\n",
    "%load_ext autoreload\n",
    "%autoreload 1\n",
    "%aimport pmldiku.data, pmldiku.diffusion, pmldiku.diffusion_utils"
   ]
  },
  {
   "cell_type": "code",
   "execution_count": 2,
   "metadata": {},
   "outputs": [
    {
     "name": "stdout",
     "output_type": "stream",
     "text": [
      "/scratch/pcv439/pmldiku-exam-paper/code\n"
     ]
    }
   ],
   "source": [
    "torch.manual_seed(1)\n",
    "\n",
    "cuda = True\n",
    "batch_size = 128\n",
    "epochs = 200 # 200\n",
    "device_name = \"cuda\" if cuda else \"cpu\"\n",
    "\n",
    "device = torch.device(device_name)\n",
    "kwargs = {'num_workers': 4, 'pin_memory': device} \n",
    "\n",
    "code_path = Path(os.getcwd()).parent.parent\n",
    "print(code_path)\n"
   ]
  },
  {
   "cell_type": "code",
   "execution_count": 3,
   "metadata": {},
   "outputs": [],
   "source": [
    "train_loader = data.load_mnist(train=True).setup_data_loader(batch_size=batch_size, **kwargs)\n",
    "validation_loader = data.load_mnist(train=False).setup_data_loader(batch_size=batch_size, **kwargs)"
   ]
  },
  {
   "cell_type": "code",
   "execution_count": 4,
   "metadata": {},
   "outputs": [],
   "source": [
    "classifier: fid.MNISTClassifier = fid.MNISTClassifier()"
   ]
  },
  {
   "cell_type": "code",
   "execution_count": 5,
   "metadata": {},
   "outputs": [
    {
     "name": "stderr",
     "output_type": "stream",
     "text": [
      "GPU available: True (cuda), used: True\n",
      "TPU available: False, using: 0 TPU cores\n",
      "IPU available: False, using: 0 IPUs\n",
      "HPU available: False, using: 0 HPUs\n",
      "LOCAL_RANK: 0 - CUDA_VISIBLE_DEVICES: [0,1,2]\n",
      "\n",
      "  | Name  | Type | Params\n",
      "-------------------------------\n",
      "0 | model | Net  | 21.8 K\n",
      "-------------------------------\n",
      "21.8 K    Trainable params\n",
      "0         Non-trainable params\n",
      "21.8 K    Total params\n",
      "0.087     Total estimated model params size (MB)\n"
     ]
    },
    {
     "data": {
      "application/vnd.jupyter.widget-view+json": {
       "model_id": "8828d56c96884b8f9aad1a1e537e5d36",
       "version_major": 2,
       "version_minor": 0
      },
      "text/plain": [
       "Sanity Checking: 0it [00:00, ?it/s]"
      ]
     },
     "metadata": {},
     "output_type": "display_data"
    },
    {
     "name": "stderr",
     "output_type": "stream",
     "text": [
      "/scratch/pcv439/pmldiku-exam-paper/code/src/pmldiku/fid.py:70: UserWarning: Implicit dimension choice for log_softmax has been deprecated. Change the call to include dim=X as an argument.\n",
      "  return F.log_softmax(x)\n"
     ]
    },
    {
     "data": {
      "application/vnd.jupyter.widget-view+json": {
       "model_id": "a896387c120a4cf3bb9b44a7e440f039",
       "version_major": 2,
       "version_minor": 0
      },
      "text/plain": [
       "Training: 0it [00:00, ?it/s]"
      ]
     },
     "metadata": {},
     "output_type": "display_data"
    },
    {
     "data": {
      "application/vnd.jupyter.widget-view+json": {
       "model_id": "a612202d86a043829b92e5b2d157644f",
       "version_major": 2,
       "version_minor": 0
      },
      "text/plain": [
       "Validation: 0it [00:00, ?it/s]"
      ]
     },
     "metadata": {},
     "output_type": "display_data"
    },
    {
     "name": "stdout",
     "output_type": "stream",
     "text": [
      "New Epoch. Loss: 0.3234443962574005\n"
     ]
    },
    {
     "data": {
      "application/vnd.jupyter.widget-view+json": {
       "model_id": "73f50374ea4b4c3c8533087ed64eb80f",
       "version_major": 2,
       "version_minor": 0
      },
      "text/plain": [
       "Validation: 0it [00:00, ?it/s]"
      ]
     },
     "metadata": {},
     "output_type": "display_data"
    },
    {
     "name": "stdout",
     "output_type": "stream",
     "text": [
      "New Epoch. Loss: 0.25009432435035706\n"
     ]
    },
    {
     "data": {
      "application/vnd.jupyter.widget-view+json": {
       "model_id": "92a734cd1bfd441397f64261f8e618db",
       "version_major": 2,
       "version_minor": 0
      },
      "text/plain": [
       "Validation: 0it [00:00, ?it/s]"
      ]
     },
     "metadata": {},
     "output_type": "display_data"
    },
    {
     "name": "stdout",
     "output_type": "stream",
     "text": [
      "New Epoch. Loss: 0.20836132764816284\n"
     ]
    },
    {
     "data": {
      "application/vnd.jupyter.widget-view+json": {
       "model_id": "7b0ac2bdf0ce4b29bb8003edeb7fd0df",
       "version_major": 2,
       "version_minor": 0
      },
      "text/plain": [
       "Validation: 0it [00:00, ?it/s]"
      ]
     },
     "metadata": {},
     "output_type": "display_data"
    },
    {
     "name": "stdout",
     "output_type": "stream",
     "text": [
      "New Epoch. Loss: 0.19429360330104828\n"
     ]
    },
    {
     "data": {
      "application/vnd.jupyter.widget-view+json": {
       "model_id": "66b1748b57fe46df85b4262f5ceaecdc",
       "version_major": 2,
       "version_minor": 0
      },
      "text/plain": [
       "Validation: 0it [00:00, ?it/s]"
      ]
     },
     "metadata": {},
     "output_type": "display_data"
    },
    {
     "name": "stdout",
     "output_type": "stream",
     "text": [
      "New Epoch. Loss: 0.2053460329771042\n"
     ]
    },
    {
     "data": {
      "application/vnd.jupyter.widget-view+json": {
       "model_id": "71cb99416f0842a8a24f7a4d1b506405",
       "version_major": 2,
       "version_minor": 0
      },
      "text/plain": [
       "Validation: 0it [00:00, ?it/s]"
      ]
     },
     "metadata": {},
     "output_type": "display_data"
    },
    {
     "name": "stdout",
     "output_type": "stream",
     "text": [
      "New Epoch. Loss: 0.16765812039375305\n"
     ]
    },
    {
     "data": {
      "application/vnd.jupyter.widget-view+json": {
       "model_id": "4d9fca812ee04f7fb68642d02ac49d4c",
       "version_major": 2,
       "version_minor": 0
      },
      "text/plain": [
       "Validation: 0it [00:00, ?it/s]"
      ]
     },
     "metadata": {},
     "output_type": "display_data"
    },
    {
     "name": "stdout",
     "output_type": "stream",
     "text": [
      "New Epoch. Loss: 0.1603001356124878\n"
     ]
    },
    {
     "data": {
      "application/vnd.jupyter.widget-view+json": {
       "model_id": "4d909d7f36e047c4b9938ef72ed984e7",
       "version_major": 2,
       "version_minor": 0
      },
      "text/plain": [
       "Validation: 0it [00:00, ?it/s]"
      ]
     },
     "metadata": {},
     "output_type": "display_data"
    },
    {
     "name": "stdout",
     "output_type": "stream",
     "text": [
      "New Epoch. Loss: 0.16483886539936066\n"
     ]
    },
    {
     "data": {
      "application/vnd.jupyter.widget-view+json": {
       "model_id": "432b95442ca04ba38c947ae5f03df012",
       "version_major": 2,
       "version_minor": 0
      },
      "text/plain": [
       "Validation: 0it [00:00, ?it/s]"
      ]
     },
     "metadata": {},
     "output_type": "display_data"
    },
    {
     "name": "stdout",
     "output_type": "stream",
     "text": [
      "New Epoch. Loss: 0.1566447913646698\n"
     ]
    },
    {
     "data": {
      "application/vnd.jupyter.widget-view+json": {
       "model_id": "fe96cf926bf94d2fa73e2199a1cf53c3",
       "version_major": 2,
       "version_minor": 0
      },
      "text/plain": [
       "Validation: 0it [00:00, ?it/s]"
      ]
     },
     "metadata": {},
     "output_type": "display_data"
    },
    {
     "name": "stdout",
     "output_type": "stream",
     "text": [
      "New Epoch. Loss: 0.15149736404418945\n"
     ]
    },
    {
     "data": {
      "application/vnd.jupyter.widget-view+json": {
       "model_id": "7309f5d26ae2421cac219041e54f7c6f",
       "version_major": 2,
       "version_minor": 0
      },
      "text/plain": [
       "Validation: 0it [00:00, ?it/s]"
      ]
     },
     "metadata": {},
     "output_type": "display_data"
    },
    {
     "name": "stdout",
     "output_type": "stream",
     "text": [
      "New Epoch. Loss: 0.13392426073551178\n"
     ]
    },
    {
     "data": {
      "application/vnd.jupyter.widget-view+json": {
       "model_id": "235e7b533d3147e6b7ac1c810254b651",
       "version_major": 2,
       "version_minor": 0
      },
      "text/plain": [
       "Validation: 0it [00:00, ?it/s]"
      ]
     },
     "metadata": {},
     "output_type": "display_data"
    },
    {
     "name": "stdout",
     "output_type": "stream",
     "text": [
      "New Epoch. Loss: 0.1285729855298996\n"
     ]
    },
    {
     "data": {
      "application/vnd.jupyter.widget-view+json": {
       "model_id": "0684872475794952af7de3151aa80588",
       "version_major": 2,
       "version_minor": 0
      },
      "text/plain": [
       "Validation: 0it [00:00, ?it/s]"
      ]
     },
     "metadata": {},
     "output_type": "display_data"
    },
    {
     "name": "stdout",
     "output_type": "stream",
     "text": [
      "New Epoch. Loss: 0.13474060595035553\n"
     ]
    },
    {
     "data": {
      "application/vnd.jupyter.widget-view+json": {
       "model_id": "0ee307ada6e445efaa87cc18067e929d",
       "version_major": 2,
       "version_minor": 0
      },
      "text/plain": [
       "Validation: 0it [00:00, ?it/s]"
      ]
     },
     "metadata": {},
     "output_type": "display_data"
    },
    {
     "name": "stdout",
     "output_type": "stream",
     "text": [
      "New Epoch. Loss: 0.1317579448223114\n"
     ]
    },
    {
     "data": {
      "application/vnd.jupyter.widget-view+json": {
       "model_id": "46422123f0314d19bc1a9bb0061bb390",
       "version_major": 2,
       "version_minor": 0
      },
      "text/plain": [
       "Validation: 0it [00:00, ?it/s]"
      ]
     },
     "metadata": {},
     "output_type": "display_data"
    },
    {
     "name": "stdout",
     "output_type": "stream",
     "text": [
      "New Epoch. Loss: 0.1322750598192215\n"
     ]
    },
    {
     "data": {
      "application/vnd.jupyter.widget-view+json": {
       "model_id": "77ddefbafc2649969fad6e7a8d2b5b97",
       "version_major": 2,
       "version_minor": 0
      },
      "text/plain": [
       "Validation: 0it [00:00, ?it/s]"
      ]
     },
     "metadata": {},
     "output_type": "display_data"
    },
    {
     "name": "stdout",
     "output_type": "stream",
     "text": [
      "New Epoch. Loss: 0.13944567739963531\n"
     ]
    },
    {
     "data": {
      "application/vnd.jupyter.widget-view+json": {
       "model_id": "ea6a9a6c4fd1479c8feed2c3b476ced7",
       "version_major": 2,
       "version_minor": 0
      },
      "text/plain": [
       "Validation: 0it [00:00, ?it/s]"
      ]
     },
     "metadata": {},
     "output_type": "display_data"
    },
    {
     "name": "stdout",
     "output_type": "stream",
     "text": [
      "New Epoch. Loss: 0.12812697887420654\n"
     ]
    },
    {
     "data": {
      "application/vnd.jupyter.widget-view+json": {
       "model_id": "a68f94cd94124cdb9cd5f165b327e9ab",
       "version_major": 2,
       "version_minor": 0
      },
      "text/plain": [
       "Validation: 0it [00:00, ?it/s]"
      ]
     },
     "metadata": {},
     "output_type": "display_data"
    },
    {
     "name": "stdout",
     "output_type": "stream",
     "text": [
      "New Epoch. Loss: 0.11670251935720444\n"
     ]
    },
    {
     "data": {
      "application/vnd.jupyter.widget-view+json": {
       "model_id": "af374b5870e74119a0625697cca14d48",
       "version_major": 2,
       "version_minor": 0
      },
      "text/plain": [
       "Validation: 0it [00:00, ?it/s]"
      ]
     },
     "metadata": {},
     "output_type": "display_data"
    },
    {
     "name": "stdout",
     "output_type": "stream",
     "text": [
      "New Epoch. Loss: 0.12710808217525482\n"
     ]
    },
    {
     "data": {
      "application/vnd.jupyter.widget-view+json": {
       "model_id": "3ef339264a044f618b54ee4b1b22047c",
       "version_major": 2,
       "version_minor": 0
      },
      "text/plain": [
       "Validation: 0it [00:00, ?it/s]"
      ]
     },
     "metadata": {},
     "output_type": "display_data"
    },
    {
     "name": "stdout",
     "output_type": "stream",
     "text": [
      "New Epoch. Loss: 0.11727342009544373\n"
     ]
    },
    {
     "data": {
      "application/vnd.jupyter.widget-view+json": {
       "model_id": "3229b3c73bc242639c1b6cdf1250e73e",
       "version_major": 2,
       "version_minor": 0
      },
      "text/plain": [
       "Validation: 0it [00:00, ?it/s]"
      ]
     },
     "metadata": {},
     "output_type": "display_data"
    },
    {
     "name": "stdout",
     "output_type": "stream",
     "text": [
      "New Epoch. Loss: 0.1317037045955658\n"
     ]
    },
    {
     "data": {
      "application/vnd.jupyter.widget-view+json": {
       "model_id": "9320906928ff4a3697d775e0b8f8d616",
       "version_major": 2,
       "version_minor": 0
      },
      "text/plain": [
       "Validation: 0it [00:00, ?it/s]"
      ]
     },
     "metadata": {},
     "output_type": "display_data"
    },
    {
     "name": "stdout",
     "output_type": "stream",
     "text": [
      "New Epoch. Loss: 0.12178611010313034\n"
     ]
    },
    {
     "data": {
      "application/vnd.jupyter.widget-view+json": {
       "model_id": "7edfc4c9fe2f44c6b661781183ca6a1f",
       "version_major": 2,
       "version_minor": 0
      },
      "text/plain": [
       "Validation: 0it [00:00, ?it/s]"
      ]
     },
     "metadata": {},
     "output_type": "display_data"
    },
    {
     "name": "stdout",
     "output_type": "stream",
     "text": [
      "New Epoch. Loss: 0.1332966834306717\n"
     ]
    }
   ],
   "source": [
    "\n",
    "cb_model_checkpoint, cb_early_stopping, cb_progress_bar, cb_lr_monitor, cb_class_loss = (\n",
    "    ModelCheckpoint(), EarlyStopping('val_mse'), \n",
    "    TQDMProgressBar(), LearningRateMonitor('step'),\n",
    "    fid.ClassifierLossCallback())  \n",
    "\n",
    "callbacks = [cb_model_checkpoint, cb_early_stopping, cb_progress_bar, cb_lr_monitor, cb_class_loss]\n",
    "\n",
    "\n",
    "trainer = pl.Trainer(max_epochs=epochs, devices=1, accelerator=device_name, auto_lr_find=True, callbacks=callbacks)\n",
    "trainer.fit(model=classifier, train_dataloaders=train_loader, val_dataloaders=validation_loader)"
   ]
  },
  {
   "cell_type": "code",
   "execution_count": 6,
   "metadata": {},
   "outputs": [
    {
     "data": {
      "text/plain": [
       "[<matplotlib.lines.Line2D at 0x7f456c542ad0>]"
      ]
     },
     "execution_count": 6,
     "metadata": {},
     "output_type": "execute_result"
    },
    {
     "data": {
      "image/png": "[encoded data removed]",
      "text/plain": [
       "<Figure size 640x480 with 1 Axes>"
      ]
     },
     "metadata": {},
     "output_type": "display_data"
    }
   ],
   "source": [
    "plt.plot(cb_class_loss.train_loss)"
   ]
  },
  {
   "cell_type": "code",
   "execution_count": 7,
   "metadata": {},
   "outputs": [],
   "source": [
    "# getting new larger image tensor for FID\n",
    "\n",
    "batch_size = 10000\n",
    "validation_loader = data.load_mnist(train=False).setup_data_loader(batch_size=batch_size, **kwargs)\n",
    "batch = next(iter(validation_loader))"
   ]
  },
  {
   "cell_type": "code",
   "execution_count": 8,
   "metadata": {},
   "outputs": [],
   "source": [
    "X_true, y_true = batch\n",
    "y_hat = classifier.model(X_true)\n"
   ]
  },
  {
   "cell_type": "code",
   "execution_count": 9,
   "metadata": {},
   "outputs": [
    {
     "data": {
      "text/plain": [
       "0.9645"
      ]
     },
     "execution_count": 9,
     "metadata": {},
     "output_type": "execute_result"
    }
   ],
   "source": [
    "# performance in validation set\n",
    "n_correct = fid.avg_correct_label(y_hat.detach().argmax(1), y_true)\n",
    "n_correct"
   ]
  },
  {
   "attachments": {},
   "cell_type": "markdown",
   "metadata": {},
   "source": [
    "# Calculating FIDS\n",
    "\n",
    "- Overvej om skyde det her hen i en anden notebook hvor vi udregner fids"
   ]
  },
  {
   "cell_type": "code",
   "execution_count": 10,
   "metadata": {},
   "outputs": [],
   "source": [
    "FSO = output_utils.FIDScoreOutput(n_decimals=2)"
   ]
  },
  {
   "cell_type": "code",
   "execution_count": 11,
   "metadata": {},
   "outputs": [],
   "source": [
    "\n",
    "# bernoulli with p = 0.9 reasonable baseline\n",
    "X_baseline = torch.bernoulli(torch.ones(10000, 1, 28, 28)*0.09)\n",
    "\n",
    "tensor_path = code_path / pathlib.Path('output/image-tensors') \n",
    "\n",
    "model_utils.save_image_tensor(X_baseline, tensor_path, 'baseline.pkl')\n"
   ]
  },
  {
   "cell_type": "code",
   "execution_count": 12,
   "metadata": {},
   "outputs": [],
   "source": [
    "frechet_inception_distance = fid.FID(classifier)\n",
    "FSO = output_utils.FIDScoreOutput(n_decimals=2)"
   ]
  },
  {
   "cell_type": "code",
   "execution_count": 20,
   "metadata": {},
   "outputs": [],
   "source": [
    "# HER SKAL ALLE ANDRE BILLEDE TENSOR LOADES. De skal have dimensionen (10, 1, 28, 28)\n",
    "\n",
    "X_baseline = model_utils.load_image_tensor(tensor_path, 'baseline.pkl')\n",
    "X_vae = None #indsæt\n",
    "X_vbae = None #indsæt\n",
    "X_cvea = None #indsæt\n",
    "X_diff = None #indsæt\n",
    "X_unet_diffusion: torch.Tensor = model_utils.load_image_tensor(tensor_path, 'unet_diffusion.pkl')\n",
    "X_conv_diffusion: torch.Tensor = model_utils.load_image_tensor(tensor_path, 'convnet_diffusion.pkl')\n",
    "\n"
   ]
  },
  {
   "cell_type": "code",
   "execution_count": 21,
   "metadata": {},
   "outputs": [],
   "source": [
    "# skal også indsættes for de andre\n",
    "\n",
    "score, info = frechet_inception_distance.calculate_fid(X_true, X_baseline)\n",
    "\n",
    "#score_vae, info_vae = frechet_inception_distance.calculate_fid(X_true, X_vae)\n",
    "#FSO.add('vae', score_vae)\n",
    "\n",
    "unet_score, unet_info = frechet_inception_distance.calculate_fid(\n",
    "    X_true, X_unet_diffusion)\n",
    "FSO.add('UNet Diffusion ', unet_score)\n",
    "\n",
    "diff_conv_score, diff_conv_info = frechet_inception_distance.calculate_fid(\n",
    "    X_true, X_conv_diffusion)\n",
    "FSO.add('Conv Diffusion', diff_conv_score)\n"
   ]
  },
  {
   "cell_type": "code",
   "execution_count": 22,
   "metadata": {},
   "outputs": [
    {
     "name": "stdout",
     "output_type": "stream",
     "text": [
      "{'Baseline': [tensor(1377.8665)], 'UNet Diffusion ': [tensor(1699.8668)], 'Conv Diffusion': [tensor(467.3229)]}\n"
     ]
    },
    {
     "name": "stderr",
     "output_type": "stream",
     "text": [
      "/scratch/pcv439/pmldiku-exam-paper/code/src/pmldiku/output_utils.py:15: FutureWarning: In future versions `DataFrame.to_latex` is expected to utilise the base implementation of `Styler.to_latex` for formatting and rendering. The arguments signature may therefore change. It is recommended instead to use `DataFrame.style.to_latex` which also contains additional functionality.\n",
      "  return table.to_latex(float_format=\"%.{}f\".format(self.n_decimals))\n"
     ]
    }
   ],
   "source": [
    "p = os.getcwd()\n",
    "\n",
    "table = FSO.generate_table()\n",
    "\n",
    "with open(pathlib.Path(p).parent.parent / pathlib.Path('tables') / pathlib.Path('fso_comparison.tex'), 'w') as table_file:\n",
    "    table_file.write(table)\n",
    "\n",
    "print(FSO.memory)"
   ]
  },
  {
   "cell_type": "markdown",
   "metadata": {},
   "source": [
    "# Plot helping"
   ]
  },
  {
   "cell_type": "code",
   "execution_count": 16,
   "metadata": {},
   "outputs": [
    {
     "data": {
      "text/plain": [
       "<matplotlib.collections.PathCollection at 0x7f456c30b970>"
      ]
     },
     "execution_count": 16,
     "metadata": {},
     "output_type": "execute_result"
    },
    {
     "data": {
      "image/png": "[encoded data removed]",
      "text/plain": [
       "<Figure size 640x480 with 1 Axes>"
      ]
     },
     "metadata": {},
     "output_type": "display_data"
    }
   ],
   "source": [
    "feature_ix = list(range(10))\n",
    "\n",
    "plt.axvline(0, ls='--', color='red', alpha=0.4)\n",
    "\n",
    "plt.scatter(info['mu_real'], feature_ix)\n",
    "plt.scatter(info['mu_gen'], feature_ix)"
   ]
  },
  {
   "cell_type": "code",
   "execution_count": 17,
   "metadata": {},
   "outputs": [],
   "source": [
    "def fid_score(mu_real, mu_gen, cov_real, cov_gen, n=None) -> float: \n",
    "    lhs =   torch.linalg.vector_norm(mu_real - mu_gen)**2 \n",
    "    rhs =   (cov_real + cov_gen - 2*(cov_real @ cov_gen)**(1/2)).trace() \n",
    "    print(lhs, rhs)\n",
    "    return lhs + rhs"
   ]
  },
  {
   "cell_type": "code",
   "execution_count": 18,
   "metadata": {},
   "outputs": [
    {
     "name": "stdout",
     "output_type": "stream",
     "text": [
      "tensor(486.2968) tensor(891.5696)\n"
     ]
    },
    {
     "data": {
      "text/plain": [
       "tensor(1377.8665)"
      ]
     },
     "execution_count": 18,
     "metadata": {},
     "output_type": "execute_result"
    }
   ],
   "source": [
    "fid_score(info['mu_real'], info['mu_gen'], info['cov_real'], info['cov_gen'])"
   ]
  },
  {
   "cell_type": "code",
   "execution_count": null,
   "metadata": {},
   "outputs": [],
   "source": []
  }
 ],
 "metadata": {
  "kernelspec": {
   "display_name": "pml",
   "language": "python",
   "name": "python3"
  },
  "language_info": {
   "codemirror_mode": {
    "name": "ipython",
    "version": 3
   },
   "file_extension": ".py",
   "mimetype": "text/x-python",
   "name": "python",
   "nbconvert_exporter": "python",
   "pygments_lexer": "ipython3",
   "version": "3.10.8"
  },
  "orig_nbformat": 4,
  "vscode": {
   "interpreter": {
    "hash": "9d480347955cf392d672f0f6b31d078b783190204d100b72812c20a03aac5f89"
   }
  }
 },
 "nbformat": 4,
 "nbformat_minor": 2
}
