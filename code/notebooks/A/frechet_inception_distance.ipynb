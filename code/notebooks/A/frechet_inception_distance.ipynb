{
 "cells": [
  {
   "cell_type": "code",
   "execution_count": 1,
   "metadata": {},
   "outputs": [],
   "source": [
    "import torch\n",
    "import torch.utils.data\n",
    "from torch import nn, optim\n",
    "from torch.nn import functional as F\n",
    "\n",
    "from torchvision import datasets, transforms\n",
    "from torchvision.transforms import Compose, ToTensor, Lambda\n",
    "from torchvision.utils import save_image\n",
    "import pytorch_lightning as pl\n",
    "\n",
    "import matplotlib.pyplot as plt\n",
    "import numpy as np\n",
    "\n",
    "from pytorch_lightning.callbacks import ModelCheckpoint, EarlyStopping, TQDMProgressBar, LearningRateMonitor\n",
    "\n",
    "# for classifier\n",
    "from torchvision.models import resnet50, ResNet50_Weights\n",
    "\n",
    "import pmldiku\n",
    "from pmldiku import data, model_utils, diffusion, diffusion_utils\n",
    "\n",
    "from typing import Any\n",
    "\n",
    "%load_ext autoreload\n",
    "%autoreload 1\n",
    "%aimport pmldiku.data, pmldiku.diffusion, pmldiku.diffusion_utils"
   ]
  },
  {
   "cell_type": "code",
   "execution_count": 44,
   "metadata": {},
   "outputs": [],
   "source": [
    "torch.manual_seed(1)\n",
    "\n",
    "cuda = True\n",
    "batch_size = 128\n",
    "epochs = 50 # 200\n",
    "device_name = \"cuda\" if cuda else \"cpu\"\n",
    "\n",
    "device = torch.device(device_name)\n",
    "kwargs = {'num_workers': 4, 'pin_memory': device} \n"
   ]
  },
  {
   "cell_type": "code",
   "execution_count": 45,
   "metadata": {},
   "outputs": [],
   "source": [
    "train_loader = data.load_mnist(train=True).setup_data_loader(batch_size=batch_size, **kwargs)\n",
    "validation_loader = data.load_mnist(train=False).setup_data_loader(batch_size=batch_size, **kwargs)\n"
   ]
  },
  {
   "cell_type": "code",
   "execution_count": 95,
   "metadata": {},
   "outputs": [],
   "source": [
    "\n",
    "class Net(nn.Module):\n",
    "    def __init__(self):\n",
    "        super(Net, self).__init__()\n",
    "        self.conv1 = nn.Conv2d(1, 10, kernel_size=5)\n",
    "        self.conv2 = nn.Conv2d(10, 20, kernel_size=5)\n",
    "        self.conv2_drop = nn.Dropout2d()\n",
    "        self.fc1 = nn.Linear(320, 50)\n",
    "        self.fc2 = nn.Linear(50, 10)\n",
    "\n",
    "    def old_forward(self, x):\n",
    "        x = F.relu(F.max_pool2d(self.conv1(x), 2))\n",
    "        x = F.relu(F.max_pool2d(self.conv2_drop(self.conv2(x)), 2))\n",
    "        x = x.view(-1, 320)\n",
    "        x = F.relu(self.fc1(x))\n",
    "        x = F.dropout(x, training=self.training)\n",
    "        x = self.fc2(x)\n",
    "        return F.log_softmax(x)\n",
    "\n",
    "    def forward(self, x) -> torch.Tensor:\n",
    "        x = self.embed(x)\n",
    "        return F.log_softmax(x)\n",
    "\n",
    "    def embed(self, x) -> torch.Tensor:\n",
    "        # generates embedding layer\n",
    "        x = F.relu(F.max_pool2d(self.conv1(x), 2))\n",
    "        x = F.relu(F.max_pool2d(self.conv2_drop(self.conv2(x)), 2))\n",
    "        x = x.view(-1, 320)\n",
    "        x = F.relu(self.fc1(x))\n",
    "        x = F.dropout(x, training=self.training)\n",
    "        x = self.fc2(x)\n",
    "        return x\n",
    "\n",
    "# callbacks\n",
    "class ClassifierLossCallback(pl.Callback):\n",
    "    \"\"\"PyTorch Lightning metric callback.\"\"\"\n",
    "\n",
    "    def __init__(self) -> None:\n",
    "        super().__init__()\n",
    "        self.train_loss: list = []\n",
    "        self.val_loss: list  = []\n",
    "        \n",
    "    def on_train_batch_end(self, trainer, pl_module, outputs, batch, batch_idx) -> None:\n",
    "        self.train_loss.append(trainer.callback_metrics['train_mse'].item())\n",
    "\n",
    "class MNISTClassifier(pl.LightningModule):\n",
    "    def __init__(self) -> None:\n",
    "        super(MNISTClassifier, self).__init__()\n",
    "\n",
    "        # init a pretrained resnet\n",
    "        self.model = Net()\n",
    "        self.verbose = True\n",
    "        \n",
    "    def training_step(self, batch, _):\n",
    "        loss = self.inner_step(batch, step_name=\"train\")\n",
    "        self.log(f\"train_mse\", loss)        \n",
    "        return loss\n",
    "\n",
    "    def validation_step(self, batch, _):\n",
    "        loss = self.inner_step(batch, step_name=\"val\")\n",
    "        self.log(f\"val_mse\", loss)        \n",
    "        return loss\n",
    "\n",
    "    def inner_step(self, batch, step_name, **kwargs):\n",
    "        X, y = batch\n",
    "        y_hat = self.model(X)\n",
    "        loss = F.nll_loss(y_hat, y)\n",
    "        return loss\n",
    "\n",
    "    def configure_optimizers(self):\n",
    "        optimizer = optim.Adam(self.parameters(), lr=0.003)\n",
    "        return optimizer\n",
    "\n",
    "    def training_epoch_end(self, training_step_outputs) -> None:\n",
    "        if self.verbose:\n",
    "            last_outputs = training_step_outputs[-50: -1]\n",
    "            res = np.mean([d['loss'].cpu().numpy() for d in last_outputs])\n",
    "            print(f\"New Epoch. Loss: {res}\")\n"
   ]
  },
  {
   "cell_type": "code",
   "execution_count": 96,
   "metadata": {},
   "outputs": [],
   "source": [
    "classifier: MNISTClassifier = MNISTClassifier()"
   ]
  },
  {
   "cell_type": "code",
   "execution_count": 97,
   "metadata": {},
   "outputs": [
    {
     "name": "stderr",
     "output_type": "stream",
     "text": [
      "GPU available: True (cuda), used: True\n",
      "TPU available: False, using: 0 TPU cores\n",
      "IPU available: False, using: 0 IPUs\n",
      "HPU available: False, using: 0 HPUs\n",
      "LOCAL_RANK: 0 - CUDA_VISIBLE_DEVICES: [0,1,2]\n",
      "\n",
      "  | Name  | Type | Params\n",
      "-------------------------------\n",
      "0 | model | Net  | 21.8 K\n",
      "-------------------------------\n",
      "21.8 K    Trainable params\n",
      "0         Non-trainable params\n",
      "21.8 K    Total params\n",
      "0.087     Total estimated model params size (MB)\n"
     ]
    },
    {
     "data": {
      "application/vnd.jupyter.widget-view+json": {
       "model_id": "6d5e66b9353c4fd991966c5a6bbb140d",
       "version_major": 2,
       "version_minor": 0
      },
      "text/plain": [
       "Sanity Checking: 0it [00:00, ?it/s]"
      ]
     },
     "metadata": {},
     "output_type": "display_data"
    },
    {
     "name": "stderr",
     "output_type": "stream",
     "text": [
      "/tmp/ipykernel_26032/4012886685.py:21: UserWarning: Implicit dimension choice for log_softmax has been deprecated. Change the call to include dim=X as an argument.\n",
      "  return F.log_softmax(x)\n"
     ]
    },
    {
     "data": {
      "application/vnd.jupyter.widget-view+json": {
       "model_id": "1ae8eb841d1f4a9590a8be5084b4ade7",
       "version_major": 2,
       "version_minor": 0
      },
      "text/plain": [
       "Training: 0it [00:00, ?it/s]"
      ]
     },
     "metadata": {},
     "output_type": "display_data"
    },
    {
     "data": {
      "application/vnd.jupyter.widget-view+json": {
       "model_id": "4af084df80ed4241ac3b15faa523501e",
       "version_major": 2,
       "version_minor": 0
      },
      "text/plain": [
       "Validation: 0it [00:00, ?it/s]"
      ]
     },
     "metadata": {},
     "output_type": "display_data"
    },
    {
     "name": "stdout",
     "output_type": "stream",
     "text": [
      "New Epoch. Loss: 0.29268181324005127\n"
     ]
    },
    {
     "data": {
      "application/vnd.jupyter.widget-view+json": {
       "model_id": "9ed8d074229946439b373ac44b8b4074",
       "version_major": 2,
       "version_minor": 0
      },
      "text/plain": [
       "Validation: 0it [00:00, ?it/s]"
      ]
     },
     "metadata": {},
     "output_type": "display_data"
    },
    {
     "name": "stdout",
     "output_type": "stream",
     "text": [
      "New Epoch. Loss: 0.25401806831359863\n"
     ]
    },
    {
     "data": {
      "application/vnd.jupyter.widget-view+json": {
       "model_id": "7673f4082ae24246a41422a456a4786d",
       "version_major": 2,
       "version_minor": 0
      },
      "text/plain": [
       "Validation: 0it [00:00, ?it/s]"
      ]
     },
     "metadata": {},
     "output_type": "display_data"
    },
    {
     "name": "stdout",
     "output_type": "stream",
     "text": [
      "New Epoch. Loss: 0.2038295865058899\n"
     ]
    },
    {
     "data": {
      "application/vnd.jupyter.widget-view+json": {
       "model_id": "129506fbc50d4f289c792709b1358c5c",
       "version_major": 2,
       "version_minor": 0
      },
      "text/plain": [
       "Validation: 0it [00:00, ?it/s]"
      ]
     },
     "metadata": {},
     "output_type": "display_data"
    },
    {
     "name": "stdout",
     "output_type": "stream",
     "text": [
      "New Epoch. Loss: 0.174393892288208\n"
     ]
    },
    {
     "data": {
      "application/vnd.jupyter.widget-view+json": {
       "model_id": "70af6f250c944d4abbd38fe96cb53e59",
       "version_major": 2,
       "version_minor": 0
      },
      "text/plain": [
       "Validation: 0it [00:00, ?it/s]"
      ]
     },
     "metadata": {},
     "output_type": "display_data"
    },
    {
     "name": "stdout",
     "output_type": "stream",
     "text": [
      "New Epoch. Loss: 0.1971081644296646\n"
     ]
    },
    {
     "data": {
      "application/vnd.jupyter.widget-view+json": {
       "model_id": "c27902c9d6fe4780aa1c22a1eedb11eb",
       "version_major": 2,
       "version_minor": 0
      },
      "text/plain": [
       "Validation: 0it [00:00, ?it/s]"
      ]
     },
     "metadata": {},
     "output_type": "display_data"
    },
    {
     "name": "stdout",
     "output_type": "stream",
     "text": [
      "New Epoch. Loss: 0.16219182312488556\n"
     ]
    },
    {
     "data": {
      "application/vnd.jupyter.widget-view+json": {
       "model_id": "0d79b8564f1449f09c2649181f0835e1",
       "version_major": 2,
       "version_minor": 0
      },
      "text/plain": [
       "Validation: 0it [00:00, ?it/s]"
      ]
     },
     "metadata": {},
     "output_type": "display_data"
    },
    {
     "name": "stdout",
     "output_type": "stream",
     "text": [
      "New Epoch. Loss: 0.1634860336780548\n"
     ]
    },
    {
     "data": {
      "application/vnd.jupyter.widget-view+json": {
       "model_id": "45232d9e20bc41feb866e50447e1c86d",
       "version_major": 2,
       "version_minor": 0
      },
      "text/plain": [
       "Validation: 0it [00:00, ?it/s]"
      ]
     },
     "metadata": {},
     "output_type": "display_data"
    },
    {
     "name": "stdout",
     "output_type": "stream",
     "text": [
      "New Epoch. Loss: 0.14985887706279755\n"
     ]
    },
    {
     "data": {
      "application/vnd.jupyter.widget-view+json": {
       "model_id": "67655c8bff4a42199d6a110b356cb2ad",
       "version_major": 2,
       "version_minor": 0
      },
      "text/plain": [
       "Validation: 0it [00:00, ?it/s]"
      ]
     },
     "metadata": {},
     "output_type": "display_data"
    },
    {
     "name": "stdout",
     "output_type": "stream",
     "text": [
      "New Epoch. Loss: 0.14271754026412964\n"
     ]
    },
    {
     "data": {
      "application/vnd.jupyter.widget-view+json": {
       "model_id": "a84328b5b8e245f392c3425b3ed7b9d4",
       "version_major": 2,
       "version_minor": 0
      },
      "text/plain": [
       "Validation: 0it [00:00, ?it/s]"
      ]
     },
     "metadata": {},
     "output_type": "display_data"
    },
    {
     "name": "stdout",
     "output_type": "stream",
     "text": [
      "New Epoch. Loss: 0.13170859217643738\n"
     ]
    },
    {
     "data": {
      "application/vnd.jupyter.widget-view+json": {
       "model_id": "beefe0e04104495a9947fcd4b9f24dfb",
       "version_major": 2,
       "version_minor": 0
      },
      "text/plain": [
       "Validation: 0it [00:00, ?it/s]"
      ]
     },
     "metadata": {},
     "output_type": "display_data"
    },
    {
     "name": "stdout",
     "output_type": "stream",
     "text": [
      "New Epoch. Loss: 0.15492846071720123\n"
     ]
    },
    {
     "data": {
      "application/vnd.jupyter.widget-view+json": {
       "model_id": "9a07c837cc3d45a7a45f46484d799b68",
       "version_major": 2,
       "version_minor": 0
      },
      "text/plain": [
       "Validation: 0it [00:00, ?it/s]"
      ]
     },
     "metadata": {},
     "output_type": "display_data"
    },
    {
     "name": "stdout",
     "output_type": "stream",
     "text": [
      "New Epoch. Loss: 0.14884552359580994\n"
     ]
    },
    {
     "data": {
      "application/vnd.jupyter.widget-view+json": {
       "model_id": "6e9f3e03245445b7bffcdbf5755de41f",
       "version_major": 2,
       "version_minor": 0
      },
      "text/plain": [
       "Validation: 0it [00:00, ?it/s]"
      ]
     },
     "metadata": {},
     "output_type": "display_data"
    },
    {
     "name": "stdout",
     "output_type": "stream",
     "text": [
      "New Epoch. Loss: 0.14329075813293457\n"
     ]
    },
    {
     "data": {
      "application/vnd.jupyter.widget-view+json": {
       "model_id": "d56c0e78d0bf4d43ab61c04eb4440ac3",
       "version_major": 2,
       "version_minor": 0
      },
      "text/plain": [
       "Validation: 0it [00:00, ?it/s]"
      ]
     },
     "metadata": {},
     "output_type": "display_data"
    },
    {
     "name": "stdout",
     "output_type": "stream",
     "text": [
      "New Epoch. Loss: 0.12763327360153198\n"
     ]
    },
    {
     "data": {
      "application/vnd.jupyter.widget-view+json": {
       "model_id": "874af098c69842eaae8c17e623d6b8b0",
       "version_major": 2,
       "version_minor": 0
      },
      "text/plain": [
       "Validation: 0it [00:00, ?it/s]"
      ]
     },
     "metadata": {},
     "output_type": "display_data"
    },
    {
     "name": "stdout",
     "output_type": "stream",
     "text": [
      "New Epoch. Loss: 0.1299990862607956\n"
     ]
    },
    {
     "data": {
      "application/vnd.jupyter.widget-view+json": {
       "model_id": "f7deca2f1a7144f9afeeb111128bf2ae",
       "version_major": 2,
       "version_minor": 0
      },
      "text/plain": [
       "Validation: 0it [00:00, ?it/s]"
      ]
     },
     "metadata": {},
     "output_type": "display_data"
    },
    {
     "name": "stdout",
     "output_type": "stream",
     "text": [
      "New Epoch. Loss: 0.13300122320652008\n"
     ]
    },
    {
     "data": {
      "application/vnd.jupyter.widget-view+json": {
       "model_id": "137384d0cdca4a1ea1a909095cfc6335",
       "version_major": 2,
       "version_minor": 0
      },
      "text/plain": [
       "Validation: 0it [00:00, ?it/s]"
      ]
     },
     "metadata": {},
     "output_type": "display_data"
    },
    {
     "name": "stdout",
     "output_type": "stream",
     "text": [
      "New Epoch. Loss: 0.12646237015724182\n"
     ]
    },
    {
     "data": {
      "application/vnd.jupyter.widget-view+json": {
       "model_id": "d84c991a28d949d78a95a7bd9607df4a",
       "version_major": 2,
       "version_minor": 0
      },
      "text/plain": [
       "Validation: 0it [00:00, ?it/s]"
      ]
     },
     "metadata": {},
     "output_type": "display_data"
    },
    {
     "name": "stdout",
     "output_type": "stream",
     "text": [
      "New Epoch. Loss: 0.15767543017864227\n"
     ]
    },
    {
     "data": {
      "application/vnd.jupyter.widget-view+json": {
       "model_id": "9972807eef284571960fde48182a1bfd",
       "version_major": 2,
       "version_minor": 0
      },
      "text/plain": [
       "Validation: 0it [00:00, ?it/s]"
      ]
     },
     "metadata": {},
     "output_type": "display_data"
    },
    {
     "name": "stdout",
     "output_type": "stream",
     "text": [
      "New Epoch. Loss: 0.11858545988798141\n"
     ]
    },
    {
     "data": {
      "application/vnd.jupyter.widget-view+json": {
       "model_id": "34a7cf7558a840e08a7d8fa84ae7f2b7",
       "version_major": 2,
       "version_minor": 0
      },
      "text/plain": [
       "Validation: 0it [00:00, ?it/s]"
      ]
     },
     "metadata": {},
     "output_type": "display_data"
    },
    {
     "name": "stdout",
     "output_type": "stream",
     "text": [
      "New Epoch. Loss: 0.1248440146446228\n"
     ]
    },
    {
     "data": {
      "application/vnd.jupyter.widget-view+json": {
       "model_id": "762280c12a3744ee8ea5006648ca2dac",
       "version_major": 2,
       "version_minor": 0
      },
      "text/plain": [
       "Validation: 0it [00:00, ?it/s]"
      ]
     },
     "metadata": {},
     "output_type": "display_data"
    },
    {
     "name": "stdout",
     "output_type": "stream",
     "text": [
      "New Epoch. Loss: 0.12816035747528076\n"
     ]
    },
    {
     "data": {
      "application/vnd.jupyter.widget-view+json": {
       "model_id": "5e6908ab0cec4881ba6ee9eeff7f8318",
       "version_major": 2,
       "version_minor": 0
      },
      "text/plain": [
       "Validation: 0it [00:00, ?it/s]"
      ]
     },
     "metadata": {},
     "output_type": "display_data"
    },
    {
     "name": "stdout",
     "output_type": "stream",
     "text": [
      "New Epoch. Loss: 0.13389086723327637\n"
     ]
    },
    {
     "data": {
      "application/vnd.jupyter.widget-view+json": {
       "model_id": "f3c81c51095f4aa9b3ca5cb1aa3037d2",
       "version_major": 2,
       "version_minor": 0
      },
      "text/plain": [
       "Validation: 0it [00:00, ?it/s]"
      ]
     },
     "metadata": {},
     "output_type": "display_data"
    },
    {
     "name": "stdout",
     "output_type": "stream",
     "text": [
      "New Epoch. Loss: 0.12168136239051819\n"
     ]
    },
    {
     "data": {
      "application/vnd.jupyter.widget-view+json": {
       "model_id": "ac2adc33372345eb85cdf39a56cb95d9",
       "version_major": 2,
       "version_minor": 0
      },
      "text/plain": [
       "Validation: 0it [00:00, ?it/s]"
      ]
     },
     "metadata": {},
     "output_type": "display_data"
    },
    {
     "name": "stdout",
     "output_type": "stream",
     "text": [
      "New Epoch. Loss: 0.11285548657178879\n"
     ]
    }
   ],
   "source": [
    "\n",
    "cb_model_checkpoint, cb_early_stopping, cb_progress_bar, cb_lr_monitor, cb_class_loss = (\n",
    "    ModelCheckpoint(), EarlyStopping('val_mse'), \n",
    "    TQDMProgressBar(), LearningRateMonitor('step'),\n",
    "    ClassifierLossCallback())  \n",
    "\n",
    "callbacks = [cb_model_checkpoint, cb_early_stopping, cb_progress_bar, cb_lr_monitor, cb_class_loss]\n",
    "\n",
    "\n",
    "trainer = pl.Trainer(max_epochs=epochs, devices=1, accelerator=device_name, auto_lr_find=True, callbacks=callbacks)\n",
    "trainer.fit(model=classifier, train_dataloaders=train_loader, val_dataloaders=validation_loader)"
   ]
  },
  {
   "cell_type": "code",
   "execution_count": 98,
   "metadata": {},
   "outputs": [
    {
     "data": {
      "text/plain": [
       "[<matplotlib.lines.Line2D at 0x7fe9d0244820>]"
      ]
     },
     "execution_count": 98,
     "metadata": {},
     "output_type": "execute_result"
    },
    {
     "data": {
      "image/png": "[encoded data removed]",
      "text/plain": [
       "<Figure size 640x480 with 1 Axes>"
      ]
     },
     "metadata": {},
     "output_type": "display_data"
    }
   ],
   "source": [
    "plt.plot(cb_class_loss.train_loss)"
   ]
  },
  {
   "cell_type": "code",
   "execution_count": 187,
   "metadata": {},
   "outputs": [],
   "source": [
    "class FID():\n",
    "    def __init__(self, classifier) -> None:\n",
    "        self.classifier = classifier\n",
    "\n",
    "    def embed(self, images) -> torch.Tensor:\n",
    "        \"\"\"takes final layer as\"\"\"\n",
    "        embeddings = self.classifier.model.embed(images).detach()\n",
    "        return embeddings\n",
    "\n",
    "    def calculate_fid(self, real: torch.Tensor, generated: torch.Tensor) -> tuple[float, dict[str, torch.Tensor]]:\n",
    "        \"\"\"real: real images, generated: generated images\"\"\"\n",
    "        embed_real = self.embed(real)\n",
    "        embed_gen = self.embed(generated)\n",
    "\n",
    "        mu_real, mu_gen = embed_real.mean(0), embed_gen.mean(0) \n",
    "        cov_real, cov_gen = embed_real.T.cov(), embed_gen.T.cov()\n",
    "\n",
    "        score = self.fid_score(mu_real, mu_gen, cov_real, cov_gen)\n",
    "        return score, {'mu_real': mu_real, 'mu_gen': mu_gen, 'cov_real': cov_real, 'cov_gen': cov_gen}\n",
    "\n",
    "    @staticmethod\n",
    "    def fid_score(mu_real, mu_gen, cov_real, cov_gen, n=None) -> float:     \n",
    "        return torch.linalg.vector_norm(mu_real - mu_gen)**2 + (cov_real + cov_gen - 2*cov_real @ cov_gen).trace() \n",
    "        \n"
   ]
  },
  {
   "cell_type": "code",
   "execution_count": 188,
   "metadata": {},
   "outputs": [],
   "source": [
    "# getting new larger image tensor for FID\n",
    "\n",
    "batch_size = 10000\n",
    "validation_loader = data.load_mnist(train=False).setup_data_loader(batch_size=batch_size, **kwargs)\n",
    "batch = next(iter(validation_loader))"
   ]
  },
  {
   "cell_type": "code",
   "execution_count": 189,
   "metadata": {},
   "outputs": [],
   "source": [
    "X_true, _ = batch\n",
    "X_baseline = torch.bernoulli(torch.ones(10000, 1, 28, 28)*0.9)"
   ]
  },
  {
   "cell_type": "code",
   "execution_count": 190,
   "metadata": {},
   "outputs": [],
   "source": [
    "fid = FID(classifier)"
   ]
  },
  {
   "cell_type": "code",
   "execution_count": 191,
   "metadata": {},
   "outputs": [],
   "source": [
    "score, info = fid.calculate_fid(X_true, X_baseline)"
   ]
  },
  {
   "cell_type": "code",
   "execution_count": 199,
   "metadata": {},
   "outputs": [
    {
     "data": {
      "text/plain": [
       "<matplotlib.collections.PathCollection at 0x7fe9de32d300>"
      ]
     },
     "execution_count": 199,
     "metadata": {},
     "output_type": "execute_result"
    },
    {
     "data": {
      "image/png": "[encoded data removed]",
      "text/plain": [
       "<Figure size 640x480 with 1 Axes>"
      ]
     },
     "metadata": {},
     "output_type": "display_data"
    }
   ],
   "source": [
    "feature_ix = list(range(10))\n",
    "\n",
    "plt.axvline(0, ls='--', color='red', alpha=0.4)\n",
    "\n",
    "plt.scatter(info['mu_real'], feature_ix)\n",
    "plt.scatter(info['mu_gen'], feature_ix)\n"
   ]
  },
  {
   "cell_type": "code",
   "execution_count": 221,
   "metadata": {},
   "outputs": [
    {
     "data": {
      "text/plain": [
       "<AxesSubplot: >"
      ]
     },
     "execution_count": 221,
     "metadata": {},
     "output_type": "execute_result"
    },
    {
     "data": {
      "image/png": "[encoded data removed]",
      "text/plain": [
       "<Figure size 1100x900 with 2 Axes>"
      ]
     },
     "metadata": {},
     "output_type": "display_data"
    }
   ],
   "source": [
    "import numpy as np\n",
    "import pandas as pd\n",
    "import seaborn as sns\n",
    "import matplotlib.pyplot as plt\n",
    "\n",
    "sns.set_theme(style=\"white\")\n",
    "\n",
    "# Generate a large random dataset\n",
    "rs = np.random.RandomState(33)\n",
    "\n",
    "# Generate a mask for the upper triangle\n",
    "mask = gen_mask(info['cov_real'])\n",
    "\n",
    "# Set up the matplotlib figure\n",
    "f, ax = plt.subplots(figsize=(11, 9))\n",
    "\n",
    "# Generate a custom diverging colormap\n",
    "cmap = sns.diverging_palette(230, 20, as_cmap=True)\n",
    "\n",
    "# Draw the heatmap with the mask and correct aspect ratio\n",
    "sns.heatmap(info['cov_real'], mask=mask, cmap=cmap, vmax=.3, center=0,\n",
    "            square=True, linewidths=.5, cbar_kws={\"shrink\": .5})"
   ]
  },
  {
   "cell_type": "code",
   "execution_count": 219,
   "metadata": {},
   "outputs": [],
   "source": [
    "\n",
    "def gen_mask(cov_matrix: torch.Tensor) -> np.ndarray[Any, bool]:\n",
    "    mask = np.triu(np.ones_like(cov_matrix, dtype=bool))\n",
    "    for i in range(len(mask)):\n",
    "        for j in range(len(mask)):\n",
    "            if i == j:\n",
    "                mask[i, j] = False\n",
    "\n",
    "    return mask"
   ]
  },
  {
   "cell_type": "code",
   "execution_count": 222,
   "metadata": {},
   "outputs": [
    {
     "data": {
      "text/plain": [
       "tensor([[ 237.2637,   10.1614,   18.7645,  -44.3221,  -22.2160,   11.7252,\n",
       "          149.3527,  -31.0251,   28.8774,  -16.5179],\n",
       "        [  10.1614,  196.5086,   51.0614,  -18.0972,   38.6406,  -42.1721,\n",
       "           29.1467,   65.7534,  -25.7476,  -48.1963],\n",
       "        [  18.7645,   51.0614,  105.3297,   24.3295,  -30.3126,  -71.9821,\n",
       "          -29.7166,   51.5540,   -0.9927,  -63.1930],\n",
       "        [ -44.3221,  -18.0972,   24.3295,  108.1733,  -66.8760,   19.5737,\n",
       "          -62.4832,   19.9429,   -2.5506,   -6.7087],\n",
       "        [ -22.2160,   38.6406,  -30.3126,  -66.8760,  121.3294,  -19.4920,\n",
       "            5.2971,   39.0967,  -22.8555,   45.8696],\n",
       "        [  11.7252,  -42.1721,  -71.9821,   19.5737,  -19.4920,  132.6893,\n",
       "           91.7563,  -86.9364,   17.7422,   26.0913],\n",
       "        [ 149.3527,   29.1467,  -29.7166,  -62.4832,    5.2971,   91.7563,\n",
       "          291.5957, -169.0744,   35.9771,  -62.9286],\n",
       "        [ -31.0251,   65.7534,   51.5540,   19.9429,   39.0967,  -86.9364,\n",
       "         -169.0744,  203.0232,  -43.1666,   46.8717],\n",
       "        [  28.8774,  -25.7476,   -0.9927,   -2.5506,  -22.8555,   17.7422,\n",
       "           35.9771,  -43.1666,   56.8730,   -7.3430],\n",
       "        [ -16.5179,  -48.1963,  -63.1930,   -6.7087,   45.8696,   26.0913,\n",
       "          -62.9286,   46.8717,   -7.3430,  106.8448]])"
      ]
     },
     "execution_count": 222,
     "metadata": {},
     "output_type": "execute_result"
    }
   ],
   "source": [
    "info['cov_real']"
   ]
  },
  {
   "cell_type": "code",
   "execution_count": null,
   "metadata": {},
   "outputs": [],
   "source": []
  }
 ],
 "metadata": {
  "kernelspec": {
   "display_name": "pml",
   "language": "python",
   "name": "python3"
  },
  "language_info": {
   "codemirror_mode": {
    "name": "ipython",
    "version": 3
   },
   "file_extension": ".py",
   "mimetype": "text/x-python",
   "name": "python",
   "nbconvert_exporter": "python",
   "pygments_lexer": "ipython3",
   "version": "3.10.8"
  },
  "orig_nbformat": 4,
  "vscode": {
   "interpreter": {
    "hash": "9d480347955cf392d672f0f6b31d078b783190204d100b72812c20a03aac5f89"
   }
  }
 },
 "nbformat": 4,
 "nbformat_minor": 2
}
