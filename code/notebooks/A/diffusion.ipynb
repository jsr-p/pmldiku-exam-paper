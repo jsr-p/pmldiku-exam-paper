{
 "cells": [
  {
   "cell_type": "markdown",
   "metadata": {},
   "source": [
    "# Diffusion model"
   ]
  },
  {
   "cell_type": "code",
   "execution_count": 1,
   "metadata": {},
   "outputs": [],
   "source": [
    "import torch\n",
    "import torch.utils.data\n",
    "from torch import nn, optim\n",
    "from torch.nn import functional as F\n",
    "import pathlib\n",
    "from pathlib import Path\n",
    "\n",
    "from torchvision import datasets, transforms\n",
    "from torchvision.transforms import Compose, ToTensor, Lambda\n",
    "from torchvision.utils import save_image\n",
    "import pytorch_lightning as pl\n",
    "\n",
    "import matplotlib.pyplot as plt\n",
    "import numpy as np\n",
    "\n",
    "from pytorch_lightning.callbacks import ModelCheckpoint, EarlyStopping, TQDMProgressBar, LearningRateMonitor\n",
    "\n",
    "import pmldiku\n",
    "from pmldiku import data, model_utils, diffusion, diffusion_utils\n",
    "\n",
    "from typing import Any\n",
    "\n",
    "%load_ext autoreload\n",
    "%autoreload 1\n",
    "%aimport pmldiku.data, pmldiku.diffusion, pmldiku.diffusion_utils"
   ]
  },
  {
   "cell_type": "code",
   "execution_count": null,
   "metadata": {},
   "outputs": [],
   "source": [
    "torch.manual_seed(1)\n",
    "\n",
    "cuda = True\n",
    "batch_size = 128\n",
    "epochs = 20\n",
    "device_name = \"cuda\" if cuda else \"cpu\"\n",
    "unet = False\n",
    "\n",
    "device = torch.device(device_name)\n",
    "kwargs = {'num_workers': 4, 'pin_memory': device} \n",
    "\n",
    "n_steps, min_beta, max_beta = 1000, 10 ** -4, 0.02  # Originally used by the authors\n",
    "config = diffusion.ParamConfig(n_steps, min_beta, max_beta)\n",
    "\n",
    "code_path = Path(os.getcwd()).parent.parent"
   ]
  },
  {
   "cell_type": "code",
   "execution_count": null,
   "metadata": {},
   "outputs": [],
   "source": [
    "transform = Compose([\n",
    "    ToTensor(),\n",
    "    Lambda(lambda x: (x - 0.5) * 2)]\n",
    ")\n",
    "\n",
    "loader = data.load_mnist(train=True, trans=transform).setup_data_loader(batch_size=batch_size, **kwargs)"
   ]
  },
  {
   "cell_type": "code",
   "execution_count": null,
   "metadata": {},
   "outputs": [],
   "source": [
    "# Construct model from params\n",
    "\n",
    "network = diffusion.UNet if unet else diffusion.ConvNet  \n",
    "\n",
    "model = diffusion.LightningDiffusion(\n",
    "    config=config, network = network, verbose=True\n",
    ")"
   ]
  },
  {
   "cell_type": "code",
   "execution_count": null,
   "metadata": {},
   "outputs": [
    {
     "name": "stderr",
     "output_type": "stream",
     "text": [
      "GPU available: True (cuda), used: True\n",
      "TPU available: False, using: 0 TPU cores\n",
      "IPU available: False, using: 0 IPUs\n",
      "HPU available: False, using: 0 HPUs\n",
      "LOCAL_RANK: 0 - CUDA_VISIBLE_DEVICES: [0,1,2]\n",
      "\n",
      "  | Name             | Type            | Params\n",
      "-----------------------------------------------------\n",
      "0 | diffusion_params | DiffusionParams | 0     \n",
      "1 | network          | ConvNet         | 229 K \n",
      "2 | diffusion        | Diffusion       | 229 K \n",
      "-----------------------------------------------------\n",
      "129 K     Trainable params\n",
      "100 K     Non-trainable params\n",
      "229 K     Total params\n",
      "0.918     Total estimated model params size (MB)\n"
     ]
    },
    {
     "data": {
      "application/vnd.jupyter.widget-view+json": {
       "model_id": "65e09d21701b47599e6ee64c6e445e9f",
       "version_major": 2,
       "version_minor": 0
      },
      "text/plain": [
       "Training: 0it [00:00, ?it/s]"
      ]
     },
     "metadata": {},
     "output_type": "display_data"
    },
    {
     "name": "stdout",
     "output_type": "stream",
     "text": [
      "Setting diffusion params to: cuda:0\n",
      "New Epoch. Loss: 0.19009658694267273\n",
      "New Epoch. Loss: 0.1542534977197647\n",
      "New Epoch. Loss: 0.13551992177963257\n",
      "New Epoch. Loss: 0.12166097015142441\n",
      "New Epoch. Loss: 0.11176026612520218\n",
      "New Epoch. Loss: 0.11054124683141708\n",
      "New Epoch. Loss: 0.08107560127973557\n",
      "New Epoch. Loss: 0.08061560988426208\n",
      "New Epoch. Loss: 0.07788752764463425\n",
      "New Epoch. Loss: 0.07182654738426208\n",
      "New Epoch. Loss: 0.07081236690282822\n",
      "New Epoch. Loss: 0.07068338245153427\n",
      "New Epoch. Loss: 0.06716323643922806\n",
      "New Epoch. Loss: 0.06964147090911865\n",
      "New Epoch. Loss: 0.0674118772149086\n",
      "New Epoch. Loss: 0.06558474898338318\n",
      "New Epoch. Loss: 0.06500651687383652\n",
      "New Epoch. Loss: 0.06259021162986755\n",
      "New Epoch. Loss: 0.06291269510984421\n",
      "New Epoch. Loss: 0.06300437450408936\n"
     ]
    },
    {
     "name": "stderr",
     "output_type": "stream",
     "text": [
      "`Trainer.fit` stopped: `max_epochs=20` reached.\n"
     ]
    }
   ],
   "source": [
    "cb_model_checkpoint, cb_early_stopping, cb_progress_bar, cb_loss, cb_lr_monitor = (\n",
    "    ModelCheckpoint(), EarlyStopping('mse_metric'), \n",
    "    TQDMProgressBar(), diffusion_utils.DiffusionLossCallback(), LearningRateMonitor('step'))  \n",
    "\n",
    "callbacks = [cb_model_checkpoint, cb_early_stopping, cb_progress_bar, cb_loss, cb_lr_monitor]\n",
    "\n",
    "trainer = pl.Trainer(max_epochs=epochs, devices=1, accelerator=device_name, callbacks=callbacks, auto_lr_find=True)\n",
    "trainer.fit(model=model, train_dataloaders=loader)"
   ]
  },
  {
   "cell_type": "markdown",
   "metadata": {},
   "source": [
    "## Plot"
   ]
  },
  {
   "cell_type": "code",
   "execution_count": null,
   "metadata": {},
   "outputs": [
    {
     "data": {
      "image/png": "[encoded data removed]",
      "text/plain": [
       "<Figure size 400x400 with 1 Axes>"
      ]
     },
     "metadata": {},
     "output_type": "display_data"
    }
   ],
   "source": [
    "losses = np.array(cb_loss.train_loss)\n",
    "model_utils.plot_loss(losses)\n",
    "\n"
   ]
  },
  {
   "cell_type": "code",
   "execution_count": null,
   "metadata": {},
   "outputs": [
    {
     "name": "stdout",
     "output_type": "stream",
     "text": [
      "lars\n",
      "t = 950\n",
      "t = 900\n",
      "t = 850\n",
      "t = 800\n",
      "t = 750\n",
      "t = 700\n",
      "t = 650\n",
      "t = 600\n",
      "t = 550\n",
      "t = 500\n",
      "t = 450\n",
      "t = 400\n",
      "t = 350\n",
      "t = 300\n",
      "t = 250\n",
      "t = 200\n",
      "t = 150\n",
      "t = 100\n",
      "t = 50\n",
      "t = 0\n"
     ]
    }
   ],
   "source": [
    "\n",
    "ims = model.to(device).generate(10000)"
   ]
  },
  {
   "cell_type": "code",
   "execution_count": null,
   "metadata": {},
   "outputs": [
    {
     "data": {
      "text/plain": [
       "<matplotlib.image.AxesImage at 0x7fab3a899300>"
      ]
     },
     "execution_count": 60,
     "metadata": {},
     "output_type": "execute_result"
    },
    {
     "data": {
      "image/png": "[encoded data removed]",
      "text/plain": [
       "<Figure size 640x480 with 1 Axes>"
      ]
     },
     "metadata": {},
     "output_type": "display_data"
    }
   ],
   "source": [
    "plt.imshow(ims[4].detach().cpu().squeeze().numpy())"
   ]
  },
  {
   "cell_type": "code",
   "execution_count": null,
   "metadata": {},
   "outputs": [
    {
     "ename": "NameError",
     "evalue": "name 'pathlib' is not defined",
     "output_type": "error",
     "traceback": [
      "\u001b[0;31m---------------------------------------------------------------------------\u001b[0m",
      "\u001b[0;31mNameError\u001b[0m                                 Traceback (most recent call last)",
      "Cell \u001b[0;32mIn[1], line 2\u001b[0m\n\u001b[1;32m      1\u001b[0m p \u001b[39m=\u001b[39m os\u001b[39m.\u001b[39mgetcwd()\n\u001b[0;32m----> 2\u001b[0m tensor_path \u001b[39m=\u001b[39m pathlib\u001b[39m.\u001b[39mPath(p)\u001b[39m.\u001b[39mparent\u001b[39m.\u001b[39mparent \u001b[39m/\u001b[39m pathlib\u001b[39m.\u001b[39mPath(\u001b[39m'\u001b[39m\u001b[39moutput/image-tensors\u001b[39m\u001b[39m'\u001b[39m) \n\u001b[1;32m      5\u001b[0m model_utils\u001b[39m.\u001b[39msave_image_tensor(ims, tensor_path, \u001b[39m'\u001b[39m\u001b[39mconvnet_diffusion.pkl\u001b[39m\u001b[39m'\u001b[39m)\n",
      "\u001b[0;31mNameError\u001b[0m: name 'pathlib' is not defined"
     ]
    }
   ],
   "source": [
    "p = os.getcwd()\n",
    "tensor_path = pathlib.Path(p).parent.parent / pathlib.Path('output/image-tensors') \n",
    "\n",
    "standardized_ims = ((ims - ims.mean()) / ims.std()).cpu()\n",
    "\n",
    "model_utils.save_image_tensor(standardized_ims, tensor_path, 'convnet_diffusion.pkl')"
   ]
  },
  {
   "cell_type": "code",
   "execution_count": null,
   "metadata": {},
   "outputs": [],
   "source": [
    "fig = model_utils.plot_image_reconstruction(standardized_ims[0:9].cpu().detach().numpy().reshape(9, 28, 28), num_cols=3, slim=0, title='ConvNet diffusion', multi_title=False)\n",
    "\n",
    "figs_path = code_path / Path('figs')\n",
    "output_utils.save_fig(fig, figs_path, 'convnet-reconstruction')"
   ]
  }
 ],
 "metadata": {
  "kernelspec": {
   "display_name": "Python 3 (ipykernel)",
   "language": "python",
   "name": "python3"
  },
  "language_info": {
   "codemirror_mode": {
    "name": "ipython",
    "version": 3
   },
   "file_extension": ".py",
   "mimetype": "text/x-python",
   "name": "python",
   "nbconvert_exporter": "python",
   "pygments_lexer": "ipython3",
   "version": "3.10.8"
  },
  "vscode": {
   "interpreter": {
    "hash": "9d480347955cf392d672f0f6b31d078b783190204d100b72812c20a03aac5f89"
   }
  }
 },
 "nbformat": 4,
 "nbformat_minor": 4
}
